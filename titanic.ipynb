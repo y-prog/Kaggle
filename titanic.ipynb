{
 "cells": [
  {
   "cell_type": "code",
   "execution_count": 2104,
   "id": "b8a85a81",
   "metadata": {},
   "outputs": [
    {
     "data": {
      "text/plain": [
       "'import tensorflow as tf\\nfrom tensorflow import keras\\nimport cv2 as cv\\nfrom tensorflow.keras import layers\\nfrom tensorflow.keras import models\\nfrom tensorflow.keras.utils import to_categorical'"
      ]
     },
     "execution_count": 2104,
     "metadata": {},
     "output_type": "execute_result"
    }
   ],
   "source": [
    "import matplotlib.pyplot as plt\n",
    "import numpy as np\n",
    "import pandas as pd\n",
    "import seaborn as sns\n",
    "from pandas import Interval\n",
    "\n",
    "\n",
    "from numpy import nan\n",
    "from sklearn.ensemble import RandomForestRegressor\n",
    "from sklearn.tree import DecisionTreeRegressor\n",
    "from sklearn.tree import DecisionTreeClassifier\n",
    "from sklearn.ensemble import RandomForestClassifier\n",
    "from sklearn.model_selection import train_test_split\n",
    "from sklearn.metrics import mean_absolute_error\n",
    "from sklearn.linear_model import LogisticRegression\n",
    "from sklearn.ensemble import GradientBoostingClassifier\n",
    "\n",
    "from sklearn.ensemble import RandomForestRegressor\n",
    "from sklearn.ensemble import RandomForestClassifier\n",
    "from sklearn.tree import DecisionTreeRegressor\n",
    "from sklearn.model_selection import train_test_split\n",
    "from sklearn.metrics import mean_absolute_error\n",
    "\n",
    "from xgboost import XGBClassifier\n",
    "\n",
    "import operator\n",
    "\n",
    "from sklearn.svm import SVC, LinearSVC\n",
    "from sklearn.neighbors import KNeighborsClassifier\n",
    "from sklearn.naive_bayes import GaussianNB\n",
    "from sklearn.linear_model import Perceptron\n",
    "from sklearn.linear_model import SGDClassifier\n",
    "from sklearn.tree import DecisionTreeClassifier\n",
    "\n",
    "from sklearn.metrics import r2_score\n",
    "\n",
    "\"\"\"import tensorflow as tf\n",
    "from tensorflow import keras\n",
    "import cv2 as cv\n",
    "from tensorflow.keras import layers\n",
    "from tensorflow.keras import models\n",
    "from tensorflow.keras.utils import to_categorical\"\"\""
   ]
  },
  {
   "cell_type": "code",
   "execution_count": 2105,
   "id": "b57677ea",
   "metadata": {},
   "outputs": [
    {
     "name": "stdout",
     "output_type": "stream",
     "text": [
      "(891, 12)\n",
      "(418, 11)\n"
     ]
    }
   ],
   "source": [
    "train_titanic=pd.read_csv(r\"train_titanic.csv\")\n",
    "test_titanic=pd.read_csv(r\"test_titanic.csv\")\n",
    "print(train_titanic.shape)\n",
    "print(test_titanic.shape)\n"
   ]
  },
  {
   "cell_type": "code",
   "execution_count": 2106,
   "id": "ec95bd9b",
   "metadata": {},
   "outputs": [
    {
     "name": "stdout",
     "output_type": "stream",
     "text": [
      "Index(['PassengerId', 'Survived', 'Pclass', 'Name', 'Sex', 'Age', 'SibSp',\n",
      "       'Parch', 'Ticket', 'Fare', 'Cabin', 'Embarked'],\n",
      "      dtype='object')\n"
     ]
    }
   ],
   "source": [
    "print(train_titanic.columns)"
   ]
  },
  {
   "cell_type": "code",
   "execution_count": 2107,
   "id": "b7941ae3",
   "metadata": {},
   "outputs": [
    {
     "name": "stdout",
     "output_type": "stream",
     "text": [
      "<class 'pandas.core.frame.DataFrame'>\n",
      "RangeIndex: 891 entries, 0 to 890\n",
      "Data columns (total 12 columns):\n",
      " #   Column       Non-Null Count  Dtype  \n",
      "---  ------       --------------  -----  \n",
      " 0   PassengerId  891 non-null    int64  \n",
      " 1   Survived     891 non-null    int64  \n",
      " 2   Pclass       891 non-null    int64  \n",
      " 3   Name         891 non-null    object \n",
      " 4   Sex          891 non-null    object \n",
      " 5   Age          714 non-null    float64\n",
      " 6   SibSp        891 non-null    int64  \n",
      " 7   Parch        891 non-null    int64  \n",
      " 8   Ticket       891 non-null    object \n",
      " 9   Fare         891 non-null    float64\n",
      " 10  Cabin        204 non-null    object \n",
      " 11  Embarked     889 non-null    object \n",
      "dtypes: float64(2), int64(5), object(5)\n",
      "memory usage: 83.7+ KB\n",
      "None\n"
     ]
    }
   ],
   "source": [
    "print(train_titanic.info())"
   ]
  },
  {
   "cell_type": "code",
   "execution_count": 2108,
   "id": "1b459c7f",
   "metadata": {},
   "outputs": [
    {
     "name": "stdout",
     "output_type": "stream",
     "text": [
      "86\n",
      "0\n",
      "0\n"
     ]
    }
   ],
   "source": [
    "\"REPLACE MISSING VALUES WITH MEAN FOR NUMERICAL AND MODE FOR CATEGORICAL\"\n",
    "print(test_titanic['Age'].isna().sum())\n",
    "train_titanic['Age'] = train_titanic['Age'].fillna(train_titanic['Age'].mean())\n",
    "test_titanic['Age'] = test_titanic['Age'].fillna(test_titanic['Age'].mean())\n",
    "print(test_titanic['Age'].isna().sum())\n",
    "test_titanic['Age'] = test_titanic['Age'].fillna(test_titanic['Age'].mean())\n",
    "print(test_titanic['Age'].isna().sum())\n",
    "\n",
    "embarked_mode_train=(train_titanic['Embarked'].mode(),'MODE')\n",
    "embarked_mode_test=(test_titanic['Embarked'].mode(),'MODE')\n",
    "\n",
    "\n",
    "train_titanic.drop(['Cabin'], axis = 1, inplace = True) #TOO MANY MISSING ENTRIES\n",
    "test_titanic.drop(['Cabin'], axis = 1, inplace = True) #TOO MANY MISSING ENTRIES\n"
   ]
  },
  {
   "cell_type": "code",
   "execution_count": 2109,
   "id": "9fd12740",
   "metadata": {},
   "outputs": [],
   "source": [
    "#fghjk,."
   ]
  },
  {
   "cell_type": "code",
   "execution_count": 2110,
   "id": "0a0f79d9",
   "metadata": {},
   "outputs": [
    {
     "name": "stdout",
     "output_type": "stream",
     "text": [
      "<class 'pandas.core.frame.DataFrame'>\n",
      "RangeIndex: 891 entries, 0 to 890\n",
      "Data columns (total 11 columns):\n",
      " #   Column       Non-Null Count  Dtype  \n",
      "---  ------       --------------  -----  \n",
      " 0   PassengerId  891 non-null    int64  \n",
      " 1   Survived     891 non-null    int64  \n",
      " 2   Pclass       891 non-null    int64  \n",
      " 3   Name         891 non-null    object \n",
      " 4   Sex          891 non-null    object \n",
      " 5   Age          891 non-null    float64\n",
      " 6   SibSp        891 non-null    int64  \n",
      " 7   Parch        891 non-null    int64  \n",
      " 8   Ticket       891 non-null    object \n",
      " 9   Fare         891 non-null    float64\n",
      " 10  Embarked     891 non-null    object \n",
      "dtypes: float64(2), int64(5), object(4)\n",
      "memory usage: 76.7+ KB\n",
      "None\n"
     ]
    }
   ],
   "source": [
    "train_titanic['Embarked'] = train_titanic['Embarked'].fillna(embarked_mode_train[1])\n",
    "test_titanic['Embarked'] = test_titanic['Embarked'].fillna(embarked_mode_test[1])\n",
    "\n",
    "print(train_titanic.info())"
   ]
  },
  {
   "cell_type": "code",
   "execution_count": 2111,
   "id": "bca21034",
   "metadata": {},
   "outputs": [
    {
     "data": {
      "text/plain": [
       "Survived  Pclass\n",
       "0         3         372\n",
       "          2          97\n",
       "          1          80\n",
       "1         1         136\n",
       "          3         119\n",
       "          2          87\n",
       "Name: Pclass, dtype: int64"
      ]
     },
     "execution_count": 2111,
     "metadata": {},
     "output_type": "execute_result"
    }
   ],
   "source": [
    "train_titanic.groupby('Survived')['Pclass'].value_counts()"
   ]
  },
  {
   "cell_type": "code",
   "execution_count": 2112,
   "id": "a10a8396",
   "metadata": {},
   "outputs": [
    {
     "name": "stdout",
     "output_type": "stream",
     "text": [
      "  Embarked  Survived\n",
      "1     MODE  1.000000\n",
      "0        C  0.553571\n",
      "2        Q  0.389610\n",
      "3        S  0.336957\n"
     ]
    },
    {
     "data": {
      "image/png": "[encoded data removed]",
      "text/plain": [
       "<Figure size 432x288 with 1 Axes>"
      ]
     },
     "metadata": {},
     "output_type": "display_data"
    }
   ],
   "source": [
    "\"\"\"NUMBER OF SURVIVORS PER EMBARKED PORT\"\"\"\n",
    "train_titanic[['Embarked', 'Survived']].groupby(['Embarked'], as_index=False).mean().sort_values(by='Survived', ascending=False).plot.bar()\n",
    "print(train_titanic[['Embarked', 'Survived']].groupby(['Embarked'], as_index=False).mean().sort_values(by='Survived', ascending=False))"
   ]
  },
  {
   "cell_type": "code",
   "execution_count": 2113,
   "id": "dc232b93",
   "metadata": {},
   "outputs": [
    {
     "name": "stdout",
     "output_type": "stream",
     "text": [
      "        Survived\n",
      "Pclass          \n",
      "1            136\n",
      "2             87\n",
      "3            119\n"
     ]
    },
    {
     "data": {
      "text/plain": [
       "<AxesSubplot:xlabel='Pclass'>"
      ]
     },
     "execution_count": 2113,
     "metadata": {},
     "output_type": "execute_result"
    },
    {
     "data": {
      "image/png": "[encoded data removed]",
      "text/plain": [
       "<Figure size 432x288 with 1 Axes>"
      ]
     },
     "metadata": {},
     "output_type": "display_data"
    }
   ],
   "source": [
    "\"\"\"NUMBER OF SURVIVORS PER CLASS\"\"\"\n",
    "print(train_titanic.pivot_table(index='Pclass', values='Survived' , aggfunc=np.sum))\n",
    "(train_titanic.groupby('Pclass')['Survived'].sum().plot.bar())"
   ]
  },
  {
   "cell_type": "code",
   "execution_count": 2114,
   "id": "6de89c1e",
   "metadata": {},
   "outputs": [
    {
     "name": "stdout",
     "output_type": "stream",
     "text": [
      "0.6296296296296297\n",
      "0.24236252545824846\n",
      "0.47282608695652173\n"
     ]
    }
   ],
   "source": [
    "print(136/(136+80))\n",
    "print(119/(372+119))\n",
    "print(87/(87+97))"
   ]
  },
  {
   "cell_type": "code",
   "execution_count": 2115,
   "id": "10386201",
   "metadata": {},
   "outputs": [
    {
     "name": "stdout",
     "output_type": "stream",
     "text": [
      "Survived  Pclass\n",
      "0         3         372\n",
      "          2          97\n",
      "          1          80\n",
      "1         1         136\n",
      "          3         119\n",
      "          2          87\n",
      "Name: Pclass, dtype: int64\n",
      "[[80, 97, 372], [136, 87, 119]] groups_class_ordered\n",
      "[1, 2, 3] class_categories_train\n",
      "[80, 97, 372]\n",
      "[136, 87, 119]\n",
      "[0.6296296296296297, 0.47282608695652173, 0.24236252545824846]\n",
      "[0.24236252545824846, 0.6296296296296297, 0.24236252545824846, 0.6296296296296297, 0.24236252545824846, 0.24236252545824846, 0.6296296296296297, 0.24236252545824846, 0.24236252545824846, 0.47282608695652173]\n",
      "[3, 1, 3, 1, 3, 3, 1, 3, 3, 2]\n",
      "[0.24236252545824846, 0.24236252545824846, 0.47282608695652173, 0.24236252545824846, 0.24236252545824846, 0.24236252545824846, 0.24236252545824846, 0.47282608695652173, 0.24236252545824846, 0.24236252545824846]\n",
      "[3, 3, 2, 3, 3, 3, 3, 2, 3, 3]\n"
     ]
    },
    {
     "data": {
      "image/png": "[encoded data removed]",
      "text/plain": [
       "<Figure size 432x288 with 1 Axes>"
      ]
     },
     "metadata": {},
     "output_type": "display_data"
    }
   ],
   "source": [
    "\"PERCENTAGE OF SURVIVORS PER CLASS\"\n",
    "\n",
    "(train_titanic.groupby('Survived')['Pclass'].value_counts().plot.bar())\n",
    "\n",
    "groups_class=(train_titanic.groupby('Survived')['Pclass'].value_counts())\n",
    "print((groups_class))\n",
    "\n",
    "groups_class_ordered=list(groups_class.unstack(fill_value=0).T.to_dict('list').values())\n",
    "print(groups_class_ordered,'groups_class_ordered')\n",
    "\n",
    "class_categories_zero=groups_class_ordered[0]\n",
    "class_categories_one=groups_class_ordered[1]\n",
    "\n",
    "class_categories_train=(sorted(train_titanic.Pclass.value_counts().index.tolist()) )\n",
    "print(class_categories_train,'class_categories_train')\n",
    "\n",
    "print(class_categories_zero)\n",
    "print(class_categories_one)\n",
    "class_zipped_groups=zip(class_categories_zero,class_categories_one)\n",
    "class_summed_zip=[x + y for (x, y) in class_zipped_groups]\n",
    "class_zipped_prop=zip(class_categories_one,class_summed_zip)\n",
    "class_group_list_proportion=[x / y for (x, y) in class_zipped_prop]\n",
    "\n",
    "print(class_group_list_proportion)\n",
    "\n",
    "list_prop_class_train=[]\n",
    "for i in train_titanic.Pclass:\n",
    "    for j in class_categories_train:\n",
    "        if i == (j):\n",
    "            list_prop_class_train.append(class_group_list_proportion[class_categories_train.index(j)])\n",
    "print(list_prop_class_train[:10])\n",
    "print(train_titanic['Pclass'].tolist()[:10])\n",
    "\n",
    "list_prop_class_test=[]\n",
    "#missing_age=[]\n",
    "for i in test_titanic.Pclass:\n",
    "    for j in class_categories_train:\n",
    "        if i == (j):\n",
    "            list_prop_class_test.append(class_group_list_proportion[class_categories_train.index(j)])\n",
    "        #elif i is np.nan:\n",
    "         #   list_prop_age_groups_test.append('nan')\n",
    "print(list_prop_class_test[:10])\n",
    "print(test_titanic['Pclass'].tolist()[:10])\n",
    "\n",
    "train_titanic['class_surv_prop']=list_prop_class_train\n",
    "test_titanic['class_surv_prop']=list_prop_class_test"
   ]
  },
  {
   "cell_type": "code",
   "execution_count": 2116,
   "id": "00641102",
   "metadata": {},
   "outputs": [
    {
     "name": "stdout",
     "output_type": "stream",
     "text": [
      "Survived  Sex   \n",
      "0         male      468\n",
      "          female     81\n",
      "1         female    233\n",
      "          male      109\n",
      "Name: Sex, dtype: int64\n",
      "[[81, 468], [233, 109]] groups_sex_ordered\n",
      "['female', 'male'] sex_categories_train\n",
      "[81, 468]\n",
      "[233, 109]\n",
      "[0.7420382165605095, 0.18890814558058924]\n",
      "[0.18890814558058924, 0.7420382165605095, 0.7420382165605095, 0.7420382165605095, 0.18890814558058924, 0.18890814558058924, 0.18890814558058924, 0.18890814558058924, 0.7420382165605095, 0.7420382165605095]\n",
      "['male', 'female', 'female', 'female', 'male', 'male', 'male', 'male', 'female', 'female']\n",
      "[0.18890814558058924, 0.7420382165605095, 0.18890814558058924, 0.18890814558058924, 0.7420382165605095, 0.18890814558058924, 0.7420382165605095, 0.18890814558058924, 0.7420382165605095, 0.18890814558058924]\n",
      "['male', 'female', 'male', 'male', 'female', 'male', 'female', 'male', 'female', 'male']\n"
     ]
    },
    {
     "data": {
      "image/png": "[encoded data removed]",
      "text/plain": [
       "<Figure size 432x288 with 1 Axes>"
      ]
     },
     "metadata": {},
     "output_type": "display_data"
    }
   ],
   "source": [
    "\"PERCENTAGE OF SURVIVORS PER GENDER\"\n",
    "\n",
    "\n",
    "(train_titanic.groupby('Survived')['Sex'].value_counts().plot.bar())\n",
    "\n",
    "groups_sex=(train_titanic.groupby('Survived')['Sex'].value_counts())\n",
    "print((groups_sex))\n",
    "\n",
    "groups_sex_ordered=list(groups_sex.unstack(fill_value=0).T.to_dict('list').values())\n",
    "print(groups_sex_ordered,'groups_sex_ordered')\n",
    "\n",
    "sex_categories_zero=groups_sex_ordered[0]\n",
    "sex_categories_one=groups_sex_ordered[1]\n",
    "\n",
    "sex_categories_train= sorted(train_titanic.Sex.value_counts().index.tolist())\n",
    "print(sex_categories_train,'sex_categories_train')\n",
    "\n",
    "print(sex_categories_zero)\n",
    "print(sex_categories_one)\n",
    "sex_zipped_groups=zip(sex_categories_zero,sex_categories_one)\n",
    "sex_summed_zip=[x + y for (x, y) in sex_zipped_groups]\n",
    "sex_zipped_prop=zip(sex_categories_one,sex_summed_zip)\n",
    "sex_group_list_proportion=[x / y for (x, y) in sex_zipped_prop]\n",
    "\n",
    "print(sex_group_list_proportion)\n",
    "\n",
    "list_prop_sex_train=[]\n",
    "for i in train_titanic.Sex:\n",
    "    for j in sex_categories_train:\n",
    "        if i == (j):\n",
    "            list_prop_sex_train.append(sex_group_list_proportion[sex_categories_train.index(j)])\n",
    "print(list_prop_sex_train[:10])\n",
    "print(train_titanic['Sex'].tolist()[:10])\n",
    "\n",
    "list_prop_sex_test=[]\n",
    "#missing_age=[]\n",
    "for i in test_titanic.Sex:\n",
    "    for j in sex_categories_train:\n",
    "        if i == (j):\n",
    "            list_prop_sex_test.append(sex_group_list_proportion[sex_categories_train.index(j)])\n",
    "        #elif i is np.nan:\n",
    "         #   list_prop_age_groups_test.append('nan')\n",
    "print(list_prop_sex_test[:10])\n",
    "print(test_titanic['Sex'].tolist()[:10])\n",
    "\n",
    "train_titanic['sex_surv_prop']=list_prop_sex_train\n",
    "test_titanic['sex_surv_prop']=list_prop_sex_test"
   ]
  },
  {
   "cell_type": "code",
   "execution_count": 2117,
   "id": "7c96148f",
   "metadata": {},
   "outputs": [
    {
     "name": "stdout",
     "output_type": "stream",
     "text": [
      "Survived  Age_Groups      \n",
      "0         (24.294, 32.252]    229\n",
      "          (16.336, 24.294]    114\n",
      "          (32.252, 40.21]      66\n",
      "          (40.21, 48.168]      46\n",
      "          (8.378, 16.336]      27\n",
      "          (48.168, 56.126]     24\n",
      "          (0.34, 8.378]        18\n",
      "          (56.126, 64.084]     15\n",
      "          (64.084, 72.042]      9\n",
      "          (72.042, 80.0]        1\n",
      "1         (24.294, 32.252]    117\n",
      "          (16.336, 24.294]     63\n",
      "          (32.252, 40.21]      52\n",
      "          (0.34, 8.378]        36\n",
      "          (40.21, 48.168]      24\n",
      "          (48.168, 56.126]     21\n",
      "          (8.378, 16.336]      19\n",
      "          (56.126, 64.084]      9\n",
      "          (72.042, 80.0]        1\n",
      "Name: Age_Groups, dtype: int64\n"
     ]
    },
    {
     "data": {
      "text/plain": [
       "<AxesSubplot:xlabel='Survived,Age_Groups'>"
      ]
     },
     "execution_count": 2117,
     "metadata": {},
     "output_type": "execute_result"
    },
    {
     "data": {
      "image/png": "[encoded data removed]",
      "text/plain": [
       "<Figure size 432x288 with 1 Axes>"
      ]
     },
     "metadata": {},
     "output_type": "display_data"
    }
   ],
   "source": [
    "\"NUMBER OF SURVIVORS PER AGE GROUP\"\n",
    "train_titanic['Age_Groups'],bins = pd.cut(train_titanic['Age'],10,retbins=True)\n",
    "\n",
    "#train_titanic['Age_Groups'], bins = pd.cut(train_titanic['Age_Groups'], 10, retbins=True)\n",
    "test_titanic['Age_Groups']= pd.cut(test_titanic['Age'], bins=bins)\n",
    "\n",
    "\n",
    "\n",
    "print(train_titanic.groupby('Survived')['Age_Groups'].value_counts())\n",
    "pd.options.display.min_rows = 1000\n",
    "(train_titanic.groupby('Survived')['Age_Groups'].value_counts().plot.bar())\n",
    "\n"
   ]
  },
  {
   "cell_type": "code",
   "execution_count": 2118,
   "id": "f4acf331",
   "metadata": {},
   "outputs": [
    {
     "name": "stdout",
     "output_type": "stream",
     "text": [
      "[ 0.34042  8.378   16.336   24.294   32.252   40.21    48.168   56.126\n",
      " 64.084   72.042   80.     ]\n"
     ]
    }
   ],
   "source": [
    "print(bins)"
   ]
  },
  {
   "cell_type": "code",
   "execution_count": 2119,
   "id": "7899a8f5",
   "metadata": {},
   "outputs": [
    {
     "name": "stdout",
     "output_type": "stream",
     "text": [
      "891\n",
      "418\n"
     ]
    }
   ],
   "source": [
    "print (len(train_titanic['Age_Groups']))\n",
    "print (len(test_titanic['Age_Groups']))\n"
   ]
  },
  {
   "cell_type": "code",
   "execution_count": 2120,
   "id": "aac4fcd8",
   "metadata": {},
   "outputs": [
    {
     "data": {
      "text/plain": [
       "\"feat='Age_Groups'\\ntrain_titanic[[feat, 'Survived']].groupby([feat], as_index=False).mean().sort_values(by='Survived', ascending=False).plot.bar()\\nsurvival_probability_age_range=(train_titanic[[feat, 'Survived']].groupby([feat], as_index=False).mean().sort_values(by='Survived', ascending=False))\\nsurvival_probability_age_range_list=(survival_probability_age_range.values.tolist())\\nprint(survival_probability_age_range)\\nprint(survival_probability_age_range.values.tolist())\\n\""
      ]
     },
     "execution_count": 2120,
     "metadata": {},
     "output_type": "execute_result"
    }
   ],
   "source": [
    "\"\"\"feat='Age_Groups'\n",
    "train_titanic[[feat, 'Survived']].groupby([feat], as_index=False).mean().sort_values(by='Survived', ascending=False).plot.bar()\n",
    "survival_probability_age_range=(train_titanic[[feat, 'Survived']].groupby([feat], as_index=False).mean().sort_values(by='Survived', ascending=False))\n",
    "survival_probability_age_range_list=(survival_probability_age_range.values.tolist())\n",
    "print(survival_probability_age_range)\n",
    "print(survival_probability_age_range.values.tolist())\n",
    "\"\"\"\n",
    "#CONTINUE LIKE LABELS BELOW"
   ]
  },
  {
   "cell_type": "code",
   "execution_count": 2121,
   "id": "403bfb95",
   "metadata": {},
   "outputs": [
    {
     "name": "stdout",
     "output_type": "stream",
     "text": [
      "[[18, 27, 114, 229, 66, 46, 24, 15, 9, 1], [36, 19, 63, 117, 52, 24, 21, 9, 0, 1]] groups missing vals\n",
      "[Interval(0.34, 8.378, closed='right'), Interval(8.378, 16.336, closed='right'), Interval(16.336, 24.294, closed='right'), Interval(24.294, 32.252, closed='right'), Interval(32.252, 40.21, closed='right'), Interval(40.21, 48.168, closed='right'), Interval(48.168, 56.126, closed='right'), Interval(56.126, 64.084, closed='right'), Interval(64.084, 72.042, closed='right'), Interval(72.042, 80.0, closed='right')] age categ train\n",
      "[18, 27, 114, 229, 66, 46, 24, 15, 9, 1] glzero\n",
      "[36, 19, 63, 117, 52, 24, 21, 9, 0, 1] glone\n",
      "[0.6666666666666666, 0.41304347826086957, 0.3559322033898305, 0.33815028901734107, 0.4406779661016949, 0.34285714285714286, 0.4666666666666667, 0.375, 0.0, 0.5] group list proportion\n",
      "========================================================================================================\n",
      "[Interval(24.294, 32.252, closed='right'), Interval(16.336, 24.294, closed='right'), Interval(32.252, 40.21, closed='right'), Interval(40.21, 48.168, closed='right'), Interval(48.168, 56.126, closed='right'), Interval(56.126, 64.084, closed='right'), Interval(0.34, 8.378, closed='right'), Interval(8.378, 16.336, closed='right'), Interval(64.084, 72.042, closed='right'), Interval(72.042, 80.0, closed='right')]\n",
      "=========================================================================================================\n",
      "[0.6666666666666666, 0.41304347826086957, 0.3559322033898305, 0.33815028901734107, 0.4406779661016949, 0.34285714285714286, 0.4666666666666667, 0.375, 0.0, 0.5] glproportion\n",
      "[0.3559322033898305, 0.4406779661016949, 0.33815028901734107, 0.4406779661016949, 0.4406779661016949, 0.33815028901734107, 0.4666666666666667, 0.6666666666666666, 0.33815028901734107, 0.41304347826086957]\n",
      "[Interval(16.336, 24.294, closed='right'), Interval(32.252, 40.21, closed='right'), Interval(24.294, 32.252, closed='right'), Interval(32.252, 40.21, closed='right'), Interval(32.252, 40.21, closed='right'), Interval(24.294, 32.252, closed='right'), Interval(48.168, 56.126, closed='right'), Interval(0.34, 8.378, closed='right'), Interval(24.294, 32.252, closed='right'), Interval(8.378, 16.336, closed='right')]\n",
      "[0.4406779661016949, 0.34285714285714286, 0.375, 0.33815028901734107, 0.3559322033898305, 0.41304347826086957, 0.33815028901734107, 0.33815028901734107, 0.3559322033898305, 0.3559322033898305]\n",
      "[Interval(32.252, 40.21, closed='right'), Interval(40.21, 48.168, closed='right'), Interval(56.126, 64.084, closed='right'), Interval(24.294, 32.252, closed='right'), Interval(16.336, 24.294, closed='right'), Interval(8.378, 16.336, closed='right'), Interval(24.294, 32.252, closed='right'), Interval(24.294, 32.252, closed='right'), Interval(16.336, 24.294, closed='right'), Interval(16.336, 24.294, closed='right')]\n"
     ]
    }
   ],
   "source": [
    "test_titanic['Age_Groups'].fillna(test_titanic['Age_Groups'].mode()[0], inplace=True)\n",
    "\n",
    "groups=(train_titanic.groupby('Survived')['Age_Groups'].value_counts())\n",
    "#print(groups)\n",
    "groups_missing_vals=list(groups.unstack(fill_value=0).T.to_dict('list').values())\n",
    "print(groups_missing_vals,'groups missing vals')\n",
    "\n",
    "age_categories_train=sorted(train_titanic.Age_Groups.value_counts().index.tolist())\n",
    "print(age_categories_train,'age categ train')\n",
    "n_val=float(np.nan)\n",
    "#age_categories_train.append(n_val)\n",
    "\n",
    "group_list_zero=groups_missing_vals[0]\n",
    "group_list_one=groups_missing_vals[1]\n",
    "\n",
    "print(group_list_zero,'glzero')\n",
    "print(group_list_one,'glone')\n",
    "zipped_groups=zip(group_list_zero,group_list_one)\n",
    "summed_zip=[x + y for (x, y) in zipped_groups]\n",
    "zipped_prop=zip(group_list_one,summed_zip)\n",
    "group_list_proportion=[x / y for (x, y) in zipped_prop]\n",
    "\n",
    "print(group_list_proportion,'group list proportion')\n",
    "\n",
    "print('========================================================================================================')\n",
    "age_categories_test=(test_titanic.Age_Groups.value_counts().index.tolist())\n",
    "print(age_categories_test)\n",
    "print('=========================================================================================================')\n",
    "print(group_list_proportion,'glproportion')\n",
    "\n",
    "list_prop_age_groups_train=[]\n",
    "for i in train_titanic.Age_Groups:\n",
    "    for j in age_categories_train:\n",
    "        if i == (j):\n",
    "            list_prop_age_groups_train.append(group_list_proportion[age_categories_train.index(j)])\n",
    "\n",
    "print(list_prop_age_groups_train[:10])\n",
    "print(train_titanic['Age_Groups'].tolist()[:10])\n",
    "\n",
    "\n",
    "list_prop_age_groups_test=[]\n",
    "missing_age=[]\n",
    "for i in test_titanic.Age_Groups:\n",
    "    for j in age_categories_train:\n",
    "        if i == (j):\n",
    "            list_prop_age_groups_test.append(group_list_proportion[age_categories_train.index(j)])\n",
    "        #elif i is np.nan:\n",
    "         #   list_prop_age_groups_test.append('nan')\n",
    "        \n",
    "        \n",
    "\n",
    "        \n",
    "print(list_prop_age_groups_test[:10])\n",
    "print(test_titanic['Age_Groups'].tolist()[:10])\n",
    "\n",
    "train_titanic['age_surv_prop']=list_prop_age_groups_train\n",
    "\n",
    "test_titanic['age_surv_prop']=list_prop_age_groups_test\n"
   ]
  },
  {
   "cell_type": "code",
   "execution_count": 2122,
   "id": "09f2836b",
   "metadata": {},
   "outputs": [],
   "source": [
    "#sdfghjkl;"
   ]
  },
  {
   "cell_type": "code",
   "execution_count": 2123,
   "id": "bbb35355",
   "metadata": {},
   "outputs": [
    {
     "name": "stdout",
     "output_type": "stream",
     "text": [
      "Survived  SibSp\n",
      "0         0        398\n",
      "          1         97\n",
      "          2         15\n",
      "          4         15\n",
      "          3         12\n",
      "          8          7\n",
      "          5          5\n",
      "1         0        210\n",
      "          1        112\n",
      "          2         13\n",
      "          3          4\n",
      "          4          3\n",
      "Name: SibSp, dtype: int64\n",
      "[[398, 97, 15, 12, 15, 5, 7], [210, 112, 13, 4, 3, 0, 0]] groups_sib_ordered\n",
      "[0, 1, 2, 3, 4, 5, 8] sib_categories_train\n",
      "[398, 97, 15, 12, 15, 5, 7]\n",
      "[210, 112, 13, 4, 3, 0, 0]\n",
      "[0.34539473684210525, 0.5358851674641149, 0.4642857142857143, 0.25, 0.16666666666666666, 0.0, 0.0]\n",
      "[0.5358851674641149, 0.5358851674641149, 0.34539473684210525, 0.5358851674641149, 0.34539473684210525, 0.34539473684210525, 0.34539473684210525, 0.25, 0.34539473684210525, 0.5358851674641149]\n",
      "[1, 1, 0, 1, 0, 0, 0, 3, 0, 1]\n",
      "[0.34539473684210525, 0.5358851674641149, 0.34539473684210525, 0.34539473684210525, 0.5358851674641149, 0.34539473684210525, 0.34539473684210525, 0.5358851674641149, 0.34539473684210525, 0.4642857142857143]\n",
      "[0, 1, 0, 0, 1, 0, 0, 1, 0, 2]\n"
     ]
    },
    {
     "data": {
      "image/png": "[encoded data removed]",
      "text/plain": [
       "<Figure size 432x288 with 1 Axes>"
      ]
     },
     "metadata": {},
     "output_type": "display_data"
    }
   ],
   "source": [
    "\"NUMBER OF SURVIVORS ACCORDING TO HOW MANY SIBLINGS ABOARD\"\n",
    "\n",
    "\n",
    "(train_titanic.groupby('Survived')['SibSp'].value_counts().plot.bar())\n",
    "\n",
    "groups_sib=(train_titanic.groupby('Survived')['SibSp'].value_counts())\n",
    "print((groups_sib))\n",
    "\n",
    "groups_sib_ordered=list(groups_sib.unstack(fill_value=0).T.to_dict('list').values())\n",
    "print(groups_sib_ordered,'groups_sib_ordered')\n",
    "\n",
    "sib_categories_zero=groups_sib_ordered[0]\n",
    "sib_categories_one=groups_sib_ordered[1]\n",
    "\n",
    "sib_categories_train=(sorted(train_titanic.SibSp.value_counts().index.tolist()) )\n",
    "print(sib_categories_train,'sib_categories_train')\n",
    "\n",
    "print(sib_categories_zero)\n",
    "print(sib_categories_one)\n",
    "sib_zipped_groups=zip(sib_categories_zero,sib_categories_one)\n",
    "sib_summed_zip=[x + y for (x, y) in sib_zipped_groups]\n",
    "sib_zipped_prop=zip(sib_categories_one,sib_summed_zip)\n",
    "sib_group_list_proportion=[x / y for (x, y) in sib_zipped_prop]\n",
    "\n",
    "print(sib_group_list_proportion)\n",
    "\n",
    "list_prop_sib_train=[]\n",
    "for i in train_titanic.SibSp:\n",
    "    for j in sib_categories_train:\n",
    "        if i == (j):\n",
    "            list_prop_sib_train.append(sib_group_list_proportion[sib_categories_train.index(j)])\n",
    "print(list_prop_sib_train[:10])\n",
    "print(train_titanic['SibSp'].tolist()[:10])\n",
    "\n",
    "list_prop_sib_test=[]\n",
    "#missing_age=[]\n",
    "for i in test_titanic.SibSp:\n",
    "    for j in sib_categories_train:\n",
    "        if i == (j):\n",
    "            list_prop_sib_test.append(sib_group_list_proportion[sib_categories_train.index(j)])\n",
    "        #elif i is np.nan:\n",
    "         #   list_prop_age_groups_test.append('nan')\n",
    "print(list_prop_sib_test[:10])\n",
    "print(test_titanic['SibSp'].tolist()[:10])\n",
    "\n",
    "train_titanic['sib_surv_prop']=list_prop_sib_train\n",
    "test_titanic['sib_surv_prop']=list_prop_sib_test"
   ]
  },
  {
   "cell_type": "code",
   "execution_count": 2124,
   "id": "1b1a9a35",
   "metadata": {},
   "outputs": [
    {
     "name": "stdout",
     "output_type": "stream",
     "text": [
      "['Name', 'Sex', 'Ticket', 'Embarked']\n"
     ]
    }
   ],
   "source": [
    "categorical_values=[i for i in train_titanic.columns if train_titanic.dtypes[i]=='object']\n",
    "print(categorical_values)\n"
   ]
  },
  {
   "cell_type": "code",
   "execution_count": 2125,
   "id": "9cbe98bd",
   "metadata": {},
   "outputs": [
    {
     "name": "stdout",
     "output_type": "stream",
     "text": [
      "['Name', 'Sex', 'Ticket', 'Embarked']\n"
     ]
    }
   ],
   "source": [
    "categorical_values_test=[i for i in test_titanic.columns if test_titanic.dtypes[i]=='object']\n",
    "print(categorical_values_test)\n"
   ]
  },
  {
   "cell_type": "code",
   "execution_count": 2126,
   "id": "f425ec00",
   "metadata": {},
   "outputs": [
    {
     "name": "stdout",
     "output_type": "stream",
     "text": [
      "['MR.', 'MRS.', 'MISS.', 'MRS.', 'MR.', 'MR.', 'MR.', 'MASTER.', 'MRS.', 'MRS.', 'MISS.', 'MISS.', 'MR.', 'MR.', 'MISS.', 'MRS.', 'MASTER.', 'MR.', 'MRS.', 'MRS.', 'MR.', 'MR.', 'MISS.', 'MR.', 'MISS.', 'MRS.', 'MR.', 'MR.', 'MISS.', 'MR.', 'URUCHURTU, DON. MANUEL E', 'MRS.', 'MISS.', 'MR.', 'MR.', 'MR.', 'MR.', 'MR.', 'MISS.', 'MISS.', 'MRS.', 'MRS.', 'MR.', 'MISS.', 'MISS.', 'MR.', 'MR.', 'MISS.', 'MR.', 'MRS.', 'MASTER.', 'MR.', 'MRS.', 'MRS.', 'MR.', 'MR.', 'MISS.', 'MR.', 'MISS.', 'MASTER.', 'MR.', 'MISS.', 'MR.', 'MASTER.', 'MR.', 'MASTER.', 'MRS.', 'MR.', 'MISS.', 'MR.', 'MR.', 'MISS.', 'MR.', 'MR.', 'MR.', 'MR.', 'MR.', 'MR.', 'MASTER.', 'MISS.', 'MR.', 'MR.', 'MISS.', 'MR.', 'MISS.', 'MRS.', 'MR.', 'MR.', 'MISS.', 'MR.', 'MR.', 'MR.', 'MR.', 'MR.', 'MR.', 'MR.', 'MR.', 'MR.', 'MRS.', 'MR.', 'MISS.', 'MR.', 'MR.', 'MR.', 'MR.', 'MR.', 'MISS.', 'MR.', 'MR.', 'MISS.', 'MR.', 'MISS.', 'MR.', 'MISS.', 'MISS.', 'MR.', 'MR.', 'MR.', 'MR.', 'MISS.', 'MR.', 'MR.', 'MR.', 'MISS.', 'MR.', 'MASTER.', 'MR.', 'MR.', 'MISS.', 'MR.', 'MR.', 'MR.', 'MRS.', 'MRS.', 'MR.', 'MR.', 'MISS.', 'MR.', 'MR.', 'MR.', 'MRS.', 'MISS.', 'MRS.', 'MR.', 'MR.', 'MR.', 'MR.', 'MISS.', 'MR.', 'BYLES, REV. THOMAS ROUSSEL DAVIDS', 'BATEMAN, REV. ROBERT JAMES', 'MRS.', 'MR.', 'MR.', 'MR.', 'MR.', 'MISS.', 'MR.', 'MR.', 'MASTER.', 'MR.', 'MRS.', 'MR.', 'MR.', 'MASTER.', 'MASTER.', 'MRS.', 'MRS.', 'MR.', 'MR.', 'MR.', 'MASTER.', 'MISS.', 'MR.', 'MR.', 'MR.', 'MASTER.', 'MISS.', 'MR.', 'MR.', 'MISS.', 'MR.', 'MASTER.', 'MASTER.', 'MISS.', 'MR.', 'MRS.', 'MR.', 'MR.', 'MR.', 'MRS.', 'MR.', 'MISS.', 'MASTER.', 'MRS.', 'MISS.', 'MR.', 'MR.', 'MISS.', 'MISS.', 'MR.', 'MR.', 'MR.', 'MR.', 'MR.', 'MISS.', 'MR.', 'MR.', 'MISS.', 'MR.', 'MR.', 'MISS.', 'MR.', 'MR.', 'MR.', 'MISS.', 'MISS.', 'MR.', 'MISS.', 'MR.', 'MR.', 'MR.', 'MR.', 'MR.', 'MR.', 'MR.', 'MR.', 'MR.', 'MR.', 'MISS.', 'MRS.', 'MR.', 'MR.', 'MISS.', 'MR.', 'MISS.', 'MR.', 'MISS.', 'MR.', 'MR.', 'MISS.', 'MISS.', 'MR.', 'MR.', 'MR.', 'DR.', 'MISS.', 'MRS.', 'MR.', 'CARTER, REV. ERNEST COURTENAY', 'MR.', 'MRS.', 'MR.', 'MR.', 'MRS.', 'MRS.', 'MRS.', 'MISS.', 'MISS.', 'MRS.', 'MR.', 'MASTER.', 'MR.', 'MR.', 'MISS.', 'MR.', 'MR.', 'MR.', 'MRS.', 'MISS.', 'MR.', 'MR.', 'MRS.', 'MR.', 'MISS.', 'MISS.', 'MISS.', 'MR.', 'MASTER.', 'MRS.', 'MR.', 'MR.', 'MR.', 'MR.', 'MR.', 'MR.', 'MR.', 'MR.', 'MR.', 'MISS.', 'MISS.', 'MRS.', 'MR.', 'MISS.', 'MR.', 'MR.', 'MR.', 'MISS.', 'MR.', 'MRS.', 'MISS.', 'MR.', 'MR.', 'MISS.', 'MR.', 'MASTER.', 'MISS.', 'MRS.', 'MR.', 'MISS.', 'MISS.', 'MISS.', 'MRS.', 'MR.', 'MR.', 'MISS.', 'MRS.', 'DR.', 'MISS.', 'MRS.', 'MR.', 'MR.', 'MISS.', 'MRS.', 'MR.', 'MISS.', 'MR.', 'MRS.', 'MRS.', 'MISS.', 'MISS.', 'MR.', 'MR.', 'MR.', 'MRS.', 'MR.', 'MR.', 'MISS.', 'MR.', 'MR.', 'MASTER.', 'MISS.', 'MR.', 'MR.', 'MR.', 'MISS.', 'MISS.', 'MRS.', 'MASTER.', 'MR.', 'MR.', 'MR.', 'MR.', 'MR.', 'MR.', 'MR.', 'MISS.', 'MISS.', 'MISS.', 'MISS.', 'MR.', 'MR.', 'MRS.', 'MR.', 'MR.', 'MR.', 'MRS.', 'MRS.', 'MISS.', 'AUBART, MME. LEONTINE PAULINE', 'MR.', 'MR.', 'MR.', 'MR.', 'MISS.', 'MRS.', 'MISS.', 'MR.', 'MR.', 'MR.', 'MISS.', 'MISS.', 'MR.', 'MRS.', 'MR.', 'MR.', 'MASTER.', 'MISS.', 'MR.', 'MISS.', 'MR.', 'MR.', 'MR.', 'MISS.', 'MRS.', 'MR.', 'MISS.', 'MR.', 'DR.', 'MRS.', 'MR.', 'MR.', 'MISS.', 'MR.', 'MISS.', 'MR.', 'MR.', 'MASTER.', 'MR.', 'MISS.', 'MR.', 'MR.', 'MISS.', 'MR.', 'MR.', 'MRS.', 'MRS.', 'MISS.', 'MR.', 'MISS.', 'MR.', 'MR.', 'MR.', 'MRS.', 'MR.', 'MR.', 'MRS.', 'MISS.', 'MR.', 'MR.', 'MR.', 'MRS.', 'MRS.', 'MR.', 'MR.', 'MISS.', 'MISS.', 'MRS.', 'MR.', 'MR.', 'MRS.', 'MR.', 'MR.', 'REYNALDO, MS. ENCARNACION', 'MR.', 'MASTER.', 'MISS.', 'MR.', 'MISS.', 'PEUCHEN, MAJOR. ARTHUR GODFREY', 'MR.', 'MR.', 'MR.', 'MR.', 'MR.', 'MR.', 'MR.', 'MRS.', 'MISS.', 'MR.', 'MR.', 'MR.', 'MR.', 'MR.', 'MR.', 'MR.', 'MR.', 'MR.', 'MR.', 'MISS.', 'MR.', 'MR.', 'MRS.', 'MRS.', 'MISS.', 'MR.', 'MR.', 'MR.', 'MR.', 'MISS.', 'MASTER.', 'MR.', 'MR.', 'MRS.', 'MR.', 'MISS.', 'MRS.', 'MR.', 'MR.', 'MASTER.', 'MR.', 'MR.', 'MR.', 'MR.', 'MR.', 'MR.', 'MISS.', 'MR.', 'MRS.', 'MR.', 'MR.', 'MISS.', 'MISS.', 'MISS.', 'MISS.', 'MR.', 'MRS.', 'MR.', 'MR.', 'MR.', 'MR.', 'MR.', 'MR.', 'MRS.', 'MR.', 'MR.', 'MRS.', 'MR.', 'MRS.', 'MR.', 'MISS.', 'MR.', 'MR.', 'MRS.', 'MR.', 'MR.', 'MISS.', 'MR.', 'MR.', 'MR.', 'MISS.', 'MR.', 'MR.', 'MRS.', 'MISS.', 'MISS.', 'BUTT, MAJOR. ARCHIBALD WILLINGHAM', 'MISS.', 'MR.', 'MISS.', 'MISS.', 'MISS.', 'MISS.', 'MR.', 'MR.', 'MR.', 'MRS.', 'MR.', 'MR.', 'MASTER.', 'MR.', 'MR.', 'MR.', 'MR.', 'MISS.', 'MR.', 'DUFF GORDON, LADY. (LUCILLE CHRISTIANA SUTHERLAND) (\"MRS MORGAN\")', 'MR.', 'MRS.', 'MRS.', 'MR.', 'MR.', 'MR.', 'MR.', 'MISS.', 'MR.', 'MR.', 'MRS.', 'MR.', 'MR.', 'MR.', 'MRS.', 'MR.', 'MISS.', 'MR.', 'MR.', 'MISS.', 'MRS.', 'MRS.', 'MR.', 'MISS.', 'MRS.', 'MR.', 'MR.', 'MR.', 'MISS.', 'MR.', 'MR.', 'MR.', 'MR.', 'MR.', 'MRS.', 'MR.', 'MISS.', 'MR.', 'MR.', 'MISS.', 'MR.', 'MR.', 'DUFF GORDON, SIR. COSMO EDMUND (\"MR MORGAN\")', 'MRS.', 'MR.', 'MR.', 'MR.', 'MR.', 'MR.', 'MR.', 'MR.', 'MRS.', 'MISS.', 'MRS.', 'MR.', 'MISS.', 'MR.', 'MR.', 'MISS.', 'MR.', 'MRS.', 'MISS.', 'MR.', 'MR.', 'MR.', 'MR.', 'MR.', 'MR.', 'MR.', 'KIRKLAND, REV. CHARLES LEONARD', 'MISS.', 'MR.', 'MR.', 'MR.', 'MR.', 'DR.', 'MR.', 'MISS.', 'MISS.', 'MR.', 'MR.', 'MRS.', 'MR.', 'MR.', 'SAGESSER, MLLE. EMMA', 'MISS.', 'MR.', 'MISS.', 'MR.', 'MR.', 'SIMONIUS-BLUMER, COL. OBERST ALFONS', 'MR.', 'MISS.', 'MR.', 'MISS.', 'MR.', 'MISS.', 'MISS.', 'MR.', 'MR.', 'MRS.', 'MR.', 'MR.', 'DR.', 'MR.', 'MR.', 'MR.', 'MR.', 'MR.', 'MR.', 'MR.', 'MR.', 'MRS.', 'MRS.', 'MR.', 'MR.', 'MR.', 'MR.', 'MR.', 'MR.', 'MISS.', 'MRS.', 'MR.', 'MISS.', 'MR.', 'MR.', 'MR.', 'MR.', 'MR.', 'MR.', 'MR.', 'MR.', 'MISS.', 'MR.', 'MISS.', 'MR.', 'MR.', 'WEIR, COL. JOHN', 'MR.', 'MR.', 'MISS.', 'MR.', 'MR.', 'MRS.', 'MR.', 'MISS.', 'MR.', 'MR.', 'MR.', 'MRS.', 'MR.', 'MISS.', 'MASTER.', 'MAYNE, MLLE. BERTHE ANTONINE (\"MRS DE VILLIERS\")', 'MR.', 'MR.', 'MR.', 'MR.', 'MR.', 'MISS.', 'MISS.', 'MR.', 'MR.', 'MISS.', 'MR.', 'MR.', 'MR.', 'MR.', 'MR.', 'MRS.', 'MISS.', 'MR.', 'MISS.', 'MISS.', 'MR.', 'MR.', 'MR.', 'MR.', 'MR.', 'MRS.', 'MR.', 'MR.', 'MR.', 'MR.', 'MR.', 'MISS.', 'MR.', 'MR.', 'CROSBY, CAPT. EDWARD GIFFORD', 'MR.', 'MISS.', 'MR.', 'MR.', 'MISS.', 'MASTER.', 'MR.', 'MR.', 'MRS.', 'MASTER.', 'MR.', 'MR.', 'MR.', 'ROTHES, THE COUNTESS. OF (LUCY NOEL MARTHA DYER-EDWARDS)', 'MR.', 'MR.', 'MR.', 'MRS.', 'MR.', 'MRS.', 'DR.', 'MISS.', 'MR.', 'MR.', 'MR.', 'MR.', 'MRS.', 'MR.', 'MRS.', 'MR.', 'MR.', 'MISS.', 'MR.', 'MRS.', 'MISS.', 'MRS.', 'MR.', 'MR.', 'MR.', 'MR.', 'MISS.', 'MASTER.', 'MASTER.', 'MR.', 'MR.', 'MR.', 'MISS.', 'MR.', 'MR.', 'MR.', 'DR.', 'MRS.', 'MR.', 'MRS.', 'MR.', 'MRS.', 'MASTER.', 'MASTER.', 'MR.', 'MR.', 'MR.', 'MISS.', 'MR.', 'MRS.', 'MR.', 'MR.', 'MR.', 'MISS.', 'MR.', 'MR.', 'MISS.', 'MR.', 'MR.', 'MASTER.', 'MRS.', 'MR.', 'REUCHLIN, JONKHEER. JOHN GEORGE', 'MRS.', 'MASTER.', 'MR.', 'MR.', 'MASTER.', 'MR.', 'MRS.', 'MRS.', 'MASTER.', 'MR.', 'MR.', 'MR.', 'MISS.', 'MR.', 'MR.', 'MR.', 'MR.', 'MR.', 'MR.', 'MISS.', 'MR.', 'MR.', 'MR.', 'MR.', 'MR.', 'HARPER, REV. JOHN', 'MRS.', 'MASTER.', 'MR.', 'MISS.', 'MISS.', 'MRS.', 'MRS.', 'MRS.', 'MR.', 'MRS.', 'MR.', 'MR.', 'MR.', 'MRS.', 'MISS.', 'MR.', 'MRS.', 'MISS.', 'MR.', 'MR.', 'MASTER.', 'MR.', 'MRS.', 'MR.', 'MR.', 'MRS.', 'MISS.', 'MR.', 'MR.', 'MR.', 'MRS.', 'MRS.', 'MR.', 'MISS.', 'MR.', 'MR.', 'MRS.', 'MONTVILA, REV. JUOZAS', 'MISS.', 'MISS.', 'MR.', 'MR.']\n",
      "==============================================================================\n",
      "==============================================================================\n",
      "==============================================================================\n",
      "['MR.', 'MRS.', 'MR.', 'MR.', 'MRS.', 'MR.', 'MISS.', 'MR.', 'MRS.', 'MR.', 'MR.', 'MR.', 'MRS.', 'MR.', 'MRS.', 'MRS.', 'MR.', 'MR.', 'MISS.', 'MRS.', 'MR.', 'MASTER.', 'MRS.', 'MR.', 'MRS.', 'MR.', 'MISS.', 'MR.', 'MR.', 'MR.', 'MR.', 'MR.', 'MRS.', 'MRS.', 'MR.', 'MR.', 'MISS.', 'MISS.', 'MR.', 'MR.', 'MR.', 'MR.', 'MR.', 'MRS.', 'MRS.', 'MR.', 'MR.', 'MR.', 'MRS.', 'MRS.', 'MR.', 'MR.', 'MISS.', 'MISS.', 'MR.', 'MASTER.', 'MR.', 'MR.', 'MR.', 'MISS.', 'MR.', 'MR.', 'MR.', 'MISS.', 'MASTER.', 'MRS.', 'MISS.', 'MR.', 'MR.', 'MRS.', 'MISS.', 'MR.', 'MISS.', 'MR.', 'MISS.', 'MR.', 'MR.', 'MRS.', 'MR.', 'MISS.', 'MASTER.', 'MR.', 'MR.', 'MR.', 'MR.', 'MR.', 'MISS.', 'MISS.', \"O'DONOGHUE, MS. BRIDGET\", 'MASTER.', 'MRS.', 'MR.', 'MRS.', 'MR.', 'MR.', 'MR.', 'MRS.', 'MR.', 'MISS.', 'MR.', 'MRS.', 'MR.', 'MR.', 'MR.', 'MRS.', 'MR.', 'MR.', 'MR.', 'MR.', 'MR.', 'MR.', 'MISS.', 'MISS.', 'MISS.', 'MRS.', 'MR.', 'MR.', 'MISS.', 'MR.', 'MRS.', 'MISS.', 'MR.', 'MRS.', 'MR.', 'MR.', 'MISS.', 'MR.', 'MISS.', 'MR.', 'MR.', 'MR.', 'GRACIE, COL. ARCHIBALD IV', 'MRS.', 'MR.', 'MR.', 'MR.', 'MR.', 'MR.', 'MISS.', 'MR.', 'MISS.', 'MISS.', 'MR.', 'MR.', 'MR.', 'MR.', 'MR.', 'MR.', 'MR.', 'LAHTINEN, REV. WILLIAM', 'MRS.', 'MR.', 'MR.', 'MRS.', 'MASTER.', 'MR.', 'MISS.', 'MISS.', 'MR.', 'MRS.', 'MISS.', 'MASTER.', 'MISS.', 'MR.', 'PERUSCHITZ, REV. JOSEPH MARIA', 'MRS.', 'MR.', 'MR.', 'MRS.', 'MISS.', 'MR.', 'MR.', 'MR.', 'MR.', 'MR.', 'MISS.', 'MISS.', 'MR.', 'MRS.', 'MRS.', 'MR.', 'MR.', 'MRS.', 'MR.', 'MRS.', 'MR.', 'MISS.', 'MR.', 'MISS.', 'MR.', 'MR.', 'MR.', 'MASTER.', 'MR.', 'MASTER.', 'MR.', 'MASTER.', 'MISS.', 'MR.', 'MRS.', 'MISS.', 'MASTER.', 'ASTOR, COL. JOHN JACOB', 'MISS.', 'MR.', 'MR.', 'MISS.', 'MR.', 'MISS.', 'MR.', 'MR.', 'MR.', 'MR.', 'MRS.', 'MISS.', 'MR.', 'MISS.', 'MR.', 'MRS.', 'MR.', 'MISS.', 'MR.', 'MRS.', 'MR.', 'MRS.', 'MRS.', 'MR.', 'MISS.', 'MR.', 'MR.', 'MR.', 'MISS.', 'MR.', 'MR.', 'MR.', 'MR.', 'MR.', 'MR.', 'MISS.', 'MRS.', 'MRS.', 'MRS.', 'MR.', 'MR.', 'MASTER.', 'MR.', 'MRS.', 'MR.', 'MRS.', 'MRS.', 'MISS.', 'MR.', 'MR.', 'MR.', 'MR.', 'MR.', 'MR.', 'MR.', 'MISS.', 'MR.', 'MR.', 'MR.', 'MRS.', 'MISS.', 'MR.', 'MR.', 'MR.', 'MR.', 'MISS.', 'MR.', 'MR.', 'MR.', 'MRS.', 'MISS.', 'MR.', 'MISS.', 'MR.', 'MR.', 'MR.', 'MR.', 'MISS.', 'MASTER.', 'MISS.', 'MISS.', 'MISS.', 'MR.', 'MR.', 'MR.', 'MR.', 'MR.', 'MR.', 'MISS.', 'MR.', 'DR.', 'MR.', 'MR.', 'MISS.', 'MR.', 'MR.', 'MR.', 'MR.', 'MR.', 'MR.', 'MR.', 'MISS.', 'MRS.', 'MR.', 'MASTER.', 'MR.', 'MRS.', 'MR.', 'MR.', 'MR.', 'MISS.', 'MRS.', 'MISS.', 'MR.', 'MR.', 'MR.', 'MR.', 'MR.', 'MR.', 'MR.', 'MR.', 'MISS.', 'MR.', 'MISS.', 'MR.', 'MR.', 'MR.', 'MRS.', 'MR.', 'MR.', 'MRS.', 'MR.', 'MR.', 'MR.', 'MR.', 'MR.', 'MASTER.', 'MR.', 'MR.', 'MR.', 'MRS.', 'MASTER.', 'MISS.', 'MR.', 'MRS.', 'MR.', 'MISS.', 'MRS.', 'MR.', 'MR.', 'MR.', 'MISS.', 'MR.', 'MRS.', 'MR.', 'MR.', 'MRS.', 'MASTER.', 'MRS.', 'MRS.', 'MR.', 'MRS.', 'MRS.', 'MR.', 'MISS.', 'MRS.', 'MR.', 'MR.', 'MISS.', 'MR.', 'MR.', 'MRS.', 'MISS.', 'MISS.', 'MR.', 'MR.', 'MASTER.', 'MR.', 'MR.', 'MRS.', 'MRS.', 'MR.', 'MISS.', 'MR.', 'MR.', 'MR.', 'MASTER.', 'MR.', 'MRS.', 'MASTER.', 'MR.', 'MR.', 'MRS.', 'MR.', 'MRS.', 'MR.', 'MR.', 'MISS.', 'MR.', 'MISS.', 'MR.', 'MR.', 'MR.', 'MR.', 'MR.', 'MISS.', 'MISS.', 'MISS.', 'MRS.', 'MISS.', 'MR.', 'OLIVA Y OCANA, DONA. FERMINA', 'MR.', 'MR.', 'MASTER.']\n"
     ]
    }
   ],
   "source": [
    "\"REPLACE NAME COLUMN WITH TITLES ONLY\"\n",
    "\n",
    "#CAPITALIZE ALL CELLS\n",
    "train_titanic['Name'] = train_titanic['Name'].str.upper()\n",
    "test_titanic['Name'] = test_titanic['Name'].str.upper()\n",
    "\n",
    "\n",
    "titles = ['MRS.','MR.','DR.','MASTER.','MISS.']\n",
    "\n",
    "titles_list_train=[]\n",
    "for i in train_titanic['Name'].values.tolist():\n",
    "    contains=False\n",
    "    for j in titles:\n",
    "        if j in i:\n",
    "            contains = True\n",
    "            break\n",
    "    if contains:\n",
    "        titles_list_train.append(j)\n",
    "    else:\n",
    "        titles_list_train.append(i)\n",
    "print(titles_list_train)\n",
    "print('==============================================================================')\n",
    "\n",
    "print('==============================================================================')\n",
    "\n",
    "print('==============================================================================')\n",
    "\n",
    "titles_list_test=[]\n",
    "for i in test_titanic['Name'].values.tolist():\n",
    "    contains = False\n",
    "    for j in titles:\n",
    "        if j in i:\n",
    "            contains=True\n",
    "            break\n",
    "    if contains:\n",
    "        titles_list_test.append(j)\n",
    "    else:\n",
    "        titles_list_test.append(i)\n",
    "        \n",
    "print(titles_list_test)\n",
    "\n",
    "\n",
    "#train_titanic['titles'] = titles_list_train\n",
    "#test_titanic['titles'] = titles_list_test\n"
   ]
  },
  {
   "cell_type": "code",
   "execution_count": 2127,
   "id": "8bb58e89",
   "metadata": {},
   "outputs": [
    {
     "name": "stdout",
     "output_type": "stream",
     "text": [
      "['URUCHURTU, DON. MANUEL E', 'BYLES, REV. THOMAS ROUSSEL DAVIDS', 'BATEMAN, REV. ROBERT JAMES', 'CARTER, REV. ERNEST COURTENAY', 'AUBART, MME. LEONTINE PAULINE', 'REYNALDO, MS. ENCARNACION', 'PEUCHEN, MAJOR. ARTHUR GODFREY', 'BUTT, MAJOR. ARCHIBALD WILLINGHAM', 'DUFF GORDON, LADY. (LUCILLE CHRISTIANA SUTHERLAND) (\"MRS MORGAN\")', 'DUFF GORDON, SIR. COSMO EDMUND (\"MR MORGAN\")', 'KIRKLAND, REV. CHARLES LEONARD', 'SAGESSER, MLLE. EMMA', 'SIMONIUS-BLUMER, COL. OBERST ALFONS', 'WEIR, COL. JOHN', 'MAYNE, MLLE. BERTHE ANTONINE (\"MRS DE VILLIERS\")', 'CROSBY, CAPT. EDWARD GIFFORD', 'ROTHES, THE COUNTESS. OF (LUCY NOEL MARTHA DYER-EDWARDS)', 'REUCHLIN, JONKHEER. JOHN GEORGE', 'HARPER, REV. JOHN', 'MONTVILA, REV. JUOZAS']\n"
     ]
    }
   ],
   "source": [
    "\"\"\"MISSING TITLES TRAIN\"\"\"\n",
    "missing_titles_train=[]\n",
    "for i in titles_list_train:\n",
    "    has=True\n",
    "    for j in titles:\n",
    "        if j in i:\n",
    "            has=False\n",
    "            break\n",
    "    if has:\n",
    "        missing_titles_train.append(i)\n",
    "print(( missing_titles_train))\n",
    "#for i in missing_titles_train:\n",
    " #   print(titles_list_train.index(i))\n",
    "    "
   ]
  },
  {
   "cell_type": "code",
   "execution_count": 2128,
   "id": "29a9a1cf",
   "metadata": {},
   "outputs": [
    {
     "name": "stdout",
     "output_type": "stream",
     "text": [
      "['MR.', 'MRS.', 'MISS.', 'MRS.', 'MR.', 'MR.', 'MR.', 'MASTER.', 'MRS.', 'MRS.', 'MISS.', 'MISS.', 'MR.', 'MR.', 'MISS.', 'MRS.', 'MASTER.', 'MR.', 'MRS.', 'MRS.', 'MR.', 'MR.', 'MISS.', 'MR.', 'MISS.', 'MRS.', 'MR.', 'MR.', 'MISS.', 'MR.', 'DON', 'MRS.', 'MISS.', 'MR.', 'MR.', 'MR.', 'MR.', 'MR.', 'MISS.', 'MISS.', 'MRS.', 'MRS.', 'MR.', 'MISS.', 'MISS.', 'MR.', 'MR.', 'MISS.', 'MR.', 'MRS.', 'MASTER.', 'MR.', 'MRS.', 'MRS.', 'MR.', 'MR.', 'MISS.', 'MR.', 'MISS.', 'MASTER.', 'MR.', 'MISS.', 'MR.', 'MASTER.', 'MR.', 'MASTER.', 'MRS.', 'MR.', 'MISS.', 'MR.', 'MR.', 'MISS.', 'MR.', 'MR.', 'MR.', 'MR.', 'MR.', 'MR.', 'MASTER.', 'MISS.', 'MR.', 'MR.', 'MISS.', 'MR.', 'MISS.', 'MRS.', 'MR.', 'MR.', 'MISS.', 'MR.', 'MR.', 'MR.', 'MR.', 'MR.', 'MR.', 'MR.', 'MR.', 'MR.', 'MRS.', 'MR.', 'MISS.', 'MR.', 'MR.', 'MR.', 'MR.', 'MR.', 'MISS.', 'MR.', 'MR.', 'MISS.', 'MR.', 'MISS.', 'MR.', 'MISS.', 'MISS.', 'MR.', 'MR.', 'MR.', 'MR.', 'MISS.', 'MR.', 'MR.', 'MR.', 'MISS.', 'MR.', 'MASTER.', 'MR.', 'MR.', 'MISS.', 'MR.', 'MR.', 'MR.', 'MRS.', 'MRS.', 'MR.', 'MR.', 'MISS.', 'MR.', 'MR.', 'MR.', 'MRS.', 'MISS.', 'MRS.', 'MR.', 'MR.', 'MR.', 'MR.', 'MISS.', 'MR.', 'REV', 'REV', 'MRS.', 'MR.', 'MR.', 'MR.', 'MR.', 'MISS.', 'MR.', 'MR.', 'MASTER.', 'MR.', 'MRS.', 'MR.', 'MR.', 'MASTER.', 'MASTER.', 'MRS.', 'MRS.', 'MR.', 'MR.', 'MR.', 'MASTER.', 'MISS.', 'MR.', 'MR.', 'MR.', 'MASTER.', 'MISS.', 'MR.', 'MR.', 'MISS.', 'MR.', 'MASTER.', 'MASTER.', 'MISS.', 'MR.', 'MRS.', 'MR.', 'MR.', 'MR.', 'MRS.', 'MR.', 'MISS.', 'MASTER.', 'MRS.', 'MISS.', 'MR.', 'MR.', 'MISS.', 'MISS.', 'MR.', 'MR.', 'MR.', 'MR.', 'MR.', 'MISS.', 'MR.', 'MR.', 'MISS.', 'MR.', 'MR.', 'MISS.', 'MR.', 'MR.', 'MR.', 'MISS.', 'MISS.', 'MR.', 'MISS.', 'MR.', 'MR.', 'MR.', 'MR.', 'MR.', 'MR.', 'MR.', 'MR.', 'MR.', 'MR.', 'MISS.', 'MRS.', 'MR.', 'MR.', 'MISS.', 'MR.', 'MISS.', 'MR.', 'MISS.', 'MR.', 'MR.', 'MISS.', 'MISS.', 'MR.', 'MR.', 'MR.', 'DR.', 'MISS.', 'MRS.', 'MR.', 'REV', 'MR.', 'MRS.', 'MR.', 'MR.', 'MRS.', 'MRS.', 'MRS.', 'MISS.', 'MISS.', 'MRS.', 'MR.', 'MASTER.', 'MR.', 'MR.', 'MISS.', 'MR.', 'MR.', 'MR.', 'MRS.', 'MISS.', 'MR.', 'MR.', 'MRS.', 'MR.', 'MISS.', 'MISS.', 'MISS.', 'MR.', 'MASTER.', 'MRS.', 'MR.', 'MR.', 'MR.', 'MR.', 'MR.', 'MR.', 'MR.', 'MR.', 'MR.', 'MISS.', 'MISS.', 'MRS.', 'MR.', 'MISS.', 'MR.', 'MR.', 'MR.', 'MISS.', 'MR.', 'MRS.', 'MISS.', 'MR.', 'MR.', 'MISS.', 'MR.', 'MASTER.', 'MISS.', 'MRS.', 'MR.', 'MISS.', 'MISS.', 'MISS.', 'MRS.', 'MR.', 'MR.', 'MISS.', 'MRS.', 'DR.', 'MISS.', 'MRS.', 'MR.', 'MR.', 'MISS.', 'MRS.', 'MR.', 'MISS.', 'MR.', 'MRS.', 'MRS.', 'MISS.', 'MISS.', 'MR.', 'MR.', 'MR.', 'MRS.', 'MR.', 'MR.', 'MISS.', 'MR.', 'MR.', 'MASTER.', 'MISS.', 'MR.', 'MR.', 'MR.', 'MISS.', 'MISS.', 'MRS.', 'MASTER.', 'MR.', 'MR.', 'MR.', 'MR.', 'MR.', 'MR.', 'MR.', 'MISS.', 'MISS.', 'MISS.', 'MISS.', 'MR.', 'MR.', 'MRS.', 'MR.', 'MR.', 'MR.', 'MRS.', 'MRS.', 'MISS.', 'MME.', 'MR.', 'MR.', 'MR.', 'MR.', 'MISS.', 'MRS.', 'MISS.', 'MR.', 'MR.', 'MR.', 'MISS.', 'MISS.', 'MR.', 'MRS.', 'MR.', 'MR.', 'MASTER.', 'MISS.', 'MR.', 'MISS.', 'MR.', 'MR.', 'MR.', 'MISS.', 'MRS.', 'MR.', 'MISS.', 'MR.', 'DR.', 'MRS.', 'MR.', 'MR.', 'MISS.', 'MR.', 'MISS.', 'MR.', 'MR.', 'MASTER.', 'MR.', 'MISS.', 'MR.', 'MR.', 'MISS.', 'MR.', 'MR.', 'MRS.', 'MRS.', 'MISS.', 'MR.', 'MISS.', 'MR.', 'MR.', 'MR.', 'MRS.', 'MR.', 'MR.', 'MRS.', 'MISS.', 'MR.', 'MR.', 'MR.', 'MRS.', 'MRS.', 'MR.', 'MR.', 'MISS.', 'MISS.', 'MRS.', 'MR.', 'MR.', 'MRS.', 'MR.', 'MR.', 'MS.', 'MR.', 'MASTER.', 'MISS.', 'MR.', 'MISS.', 'MAJOR.', 'MR.', 'MR.', 'MR.', 'MR.', 'MR.', 'MR.', 'MR.', 'MRS.', 'MISS.', 'MR.', 'MR.', 'MR.', 'MR.', 'MR.', 'MR.', 'MR.', 'MR.', 'MR.', 'MR.', 'MISS.', 'MR.', 'MR.', 'MRS.', 'MRS.', 'MISS.', 'MR.', 'MR.', 'MR.', 'MR.', 'MISS.', 'MASTER.', 'MR.', 'MR.', 'MRS.', 'MR.', 'MISS.', 'MRS.', 'MR.', 'MR.', 'MASTER.', 'MR.', 'MR.', 'MR.', 'MR.', 'MR.', 'MR.', 'MISS.', 'MR.', 'MRS.', 'MR.', 'MR.', 'MISS.', 'MISS.', 'MISS.', 'MISS.', 'MR.', 'MRS.', 'MR.', 'MR.', 'MR.', 'MR.', 'MR.', 'MR.', 'MRS.', 'MR.', 'MR.', 'MRS.', 'MR.', 'MRS.', 'MR.', 'MISS.', 'MR.', 'MR.', 'MRS.', 'MR.', 'MR.', 'MISS.', 'MR.', 'MR.', 'MR.', 'MISS.', 'MR.', 'MR.', 'MRS.', 'MISS.', 'MISS.', 'MAJOR.', 'MISS.', 'MR.', 'MISS.', 'MISS.', 'MISS.', 'MISS.', 'MR.', 'MR.', 'MR.', 'MRS.', 'MR.', 'MR.', 'MASTER.', 'MR.', 'MR.', 'MR.', 'MR.', 'MISS.', 'MR.', 'DON', 'MR.', 'MRS.', 'MRS.', 'MR.', 'MR.', 'MR.', 'MR.', 'MISS.', 'MR.', 'MR.', 'MRS.', 'MR.', 'MR.', 'MR.', 'MRS.', 'MR.', 'MISS.', 'MR.', 'MR.', 'MISS.', 'MRS.', 'MRS.', 'MR.', 'MISS.', 'MRS.', 'MR.', 'MR.', 'MR.', 'MISS.', 'MR.', 'MR.', 'MR.', 'MR.', 'MR.', 'MRS.', 'MR.', 'MISS.', 'MR.', 'MR.', 'MISS.', 'MR.', 'MR.', 'DON', 'MRS.', 'MR.', 'MR.', 'MR.', 'MR.', 'MR.', 'MR.', 'MR.', 'MRS.', 'MISS.', 'MRS.', 'MR.', 'MISS.', 'MR.', 'MR.', 'MISS.', 'MR.', 'MRS.', 'MISS.', 'MR.', 'MR.', 'MR.', 'MR.', 'MR.', 'MR.', 'MR.', 'REV', 'MISS.', 'MR.', 'MR.', 'MR.', 'MR.', 'DR.', 'MR.', 'MISS.', 'MISS.', 'MR.', 'MR.', 'MRS.', 'MR.', 'MR.', 'MLLE.', 'MISS.', 'MR.', 'MISS.', 'MR.', 'MR.', 'COL.', 'MR.', 'MISS.', 'MR.', 'MISS.', 'MR.', 'MISS.', 'MISS.', 'MR.', 'MR.', 'MRS.', 'MR.', 'MR.', 'DR.', 'MR.', 'MR.', 'MR.', 'MR.', 'MR.', 'MR.', 'MR.', 'MR.', 'MRS.', 'MRS.', 'MR.', 'MR.', 'MR.', 'MR.', 'MR.', 'MR.', 'MISS.', 'MRS.', 'MR.', 'MISS.', 'MR.', 'MR.', 'MR.', 'MR.', 'MR.', 'MR.', 'MR.', 'MR.', 'MISS.', 'MR.', 'MISS.', 'MR.', 'MR.', 'COL.', 'MR.', 'MR.', 'MISS.', 'MR.', 'MR.', 'MRS.', 'MR.', 'MISS.', 'MR.', 'MR.', 'MR.', 'MRS.', 'MR.', 'MISS.', 'MASTER.', 'MLLE.', 'MR.', 'MR.', 'MR.', 'MR.', 'MR.', 'MISS.', 'MISS.', 'MR.', 'MR.', 'MISS.', 'MR.', 'MR.', 'MR.', 'MR.', 'MR.', 'MRS.', 'MISS.', 'MR.', 'MISS.', 'MISS.', 'MR.', 'MR.', 'MR.', 'MR.', 'MR.', 'MRS.', 'MR.', 'MR.', 'MR.', 'MR.', 'MR.', 'MISS.', 'MR.', 'MR.', 'CAPT', 'MR.', 'MISS.', 'MR.', 'MR.', 'MISS.', 'MASTER.', 'MR.', 'MR.', 'MRS.', 'MASTER.', 'MR.', 'MR.', 'MR.', 'COUNTESS.', 'MR.', 'MR.', 'MR.', 'MRS.', 'MR.', 'MRS.', 'DR.', 'MISS.', 'MR.', 'MR.', 'MR.', 'MR.', 'MRS.', 'MR.', 'MRS.', 'MR.', 'MR.', 'MISS.', 'MR.', 'MRS.', 'MISS.', 'MRS.', 'MR.', 'MR.', 'MR.', 'MR.', 'MISS.', 'MASTER.', 'MASTER.', 'MR.', 'MR.', 'MR.', 'MISS.', 'MR.', 'MR.', 'MR.', 'DR.', 'MRS.', 'MR.', 'MRS.', 'MR.', 'MRS.', 'MASTER.', 'MASTER.', 'MR.', 'MR.', 'MR.', 'MISS.', 'MR.', 'MRS.', 'MR.', 'MR.', 'MR.', 'MISS.', 'MR.', 'MR.', 'MISS.', 'MR.', 'MR.', 'MASTER.', 'MRS.', 'MR.', 'JONKHEER.', 'MRS.', 'MASTER.', 'MR.', 'MR.', 'MASTER.', 'MR.', 'MRS.', 'MRS.', 'MASTER.', 'MR.', 'MR.', 'MR.', 'MISS.', 'MR.', 'MR.', 'MR.', 'MR.', 'MR.', 'MR.', 'MISS.', 'MR.', 'MR.', 'MR.', 'MR.', 'MR.', 'REV', 'MRS.', 'MASTER.', 'MR.', 'MISS.', 'MISS.', 'MRS.', 'MRS.', 'MRS.', 'MR.', 'MRS.', 'MR.', 'MR.', 'MR.', 'MRS.', 'MISS.', 'MR.', 'MRS.', 'MISS.', 'MR.', 'MR.', 'MASTER.', 'MR.', 'MRS.', 'MR.', 'MR.', 'MRS.', 'MISS.', 'MR.', 'MR.', 'MR.', 'MRS.', 'MRS.', 'MR.', 'MISS.', 'MR.', 'MR.', 'MRS.', 'REV', 'MISS.', 'MISS.', 'MR.', 'MR.']\n"
     ]
    }
   ],
   "source": [
    "\"ENCODE REST OF NAMES IN TRAIN DATASET\"\n",
    "rem_titles=['DON','REV','MME.','MS.','MAJOR.','LADY.','SIR','MLLE.','COL.','CAPT','COUNTESS.','JONKHEER.','DONA']\n",
    "\n",
    "titles_list_train_cleaned=[]\n",
    "for i in titles_list_train:\n",
    "    contains=False\n",
    "    for j in rem_titles:\n",
    "        if j in i:\n",
    "            contains = True\n",
    "            break\n",
    "    if contains:\n",
    "        titles_list_train_cleaned.append(j)\n",
    "    else:\n",
    "        titles_list_train_cleaned.append(i)\n",
    "print(titles_list_train_cleaned)"
   ]
  },
  {
   "cell_type": "code",
   "execution_count": 2129,
   "id": "1c1180f3",
   "metadata": {},
   "outputs": [
    {
     "name": "stdout",
     "output_type": "stream",
     "text": [
      "[\"O'DONOGHUE, MS. BRIDGET\", 'GRACIE, COL. ARCHIBALD IV', 'LAHTINEN, REV. WILLIAM', 'PERUSCHITZ, REV. JOSEPH MARIA', 'ASTOR, COL. JOHN JACOB', 'OLIVA Y OCANA, DONA. FERMINA']\n"
     ]
    }
   ],
   "source": [
    "\n",
    "\"\"\"MISSING TITLES TEST\"\"\"\n",
    "missing_titles_test=[]\n",
    "for i in titles_list_test:\n",
    "    has=True\n",
    "    for j in titles:\n",
    "        if j in i:\n",
    "            has=False\n",
    "            break\n",
    "    if has:\n",
    "        missing_titles_test.append(i)\n",
    "print(( missing_titles_test))\n"
   ]
  },
  {
   "cell_type": "code",
   "execution_count": 2130,
   "id": "56d8f86f",
   "metadata": {},
   "outputs": [
    {
     "name": "stdout",
     "output_type": "stream",
     "text": [
      "['MR.', 'MRS.', 'MR.', 'MR.', 'MRS.', 'MR.', 'MISS.', 'MR.', 'MRS.', 'MR.', 'MR.', 'MR.', 'MRS.', 'MR.', 'MRS.', 'MRS.', 'MR.', 'MR.', 'MISS.', 'MRS.', 'MR.', 'MASTER.', 'MRS.', 'MR.', 'MRS.', 'MR.', 'MISS.', 'MR.', 'MR.', 'MR.', 'MR.', 'MR.', 'MRS.', 'MRS.', 'MR.', 'MR.', 'MISS.', 'MISS.', 'MR.', 'MR.', 'MR.', 'MR.', 'MR.', 'MRS.', 'MRS.', 'MR.', 'MR.', 'MR.', 'MRS.', 'MRS.', 'MR.', 'MR.', 'MISS.', 'MISS.', 'MR.', 'MASTER.', 'MR.', 'MR.', 'MR.', 'MISS.', 'MR.', 'MR.', 'MR.', 'MISS.', 'MASTER.', 'MRS.', 'MISS.', 'MR.', 'MR.', 'MRS.', 'MISS.', 'MR.', 'MISS.', 'MR.', 'MISS.', 'MR.', 'MR.', 'MRS.', 'MR.', 'MISS.', 'MASTER.', 'MR.', 'MR.', 'MR.', 'MR.', 'MR.', 'MISS.', 'MISS.', 'DON', 'MASTER.', 'MRS.', 'MR.', 'MRS.', 'MR.', 'MR.', 'MR.', 'MRS.', 'MR.', 'MISS.', 'MR.', 'MRS.', 'MR.', 'MR.', 'MR.', 'MRS.', 'MR.', 'MR.', 'MR.', 'MR.', 'MR.', 'MR.', 'MISS.', 'MISS.', 'MISS.', 'MRS.', 'MR.', 'MR.', 'MISS.', 'MR.', 'MRS.', 'MISS.', 'MR.', 'MRS.', 'MR.', 'MR.', 'MISS.', 'MR.', 'MISS.', 'MR.', 'MR.', 'MR.', 'COL.', 'MRS.', 'MR.', 'MR.', 'MR.', 'MR.', 'MR.', 'MISS.', 'MR.', 'MISS.', 'MISS.', 'MR.', 'MR.', 'MR.', 'MR.', 'MR.', 'MR.', 'MR.', 'REV', 'MRS.', 'MR.', 'MR.', 'MRS.', 'MASTER.', 'MR.', 'MISS.', 'MISS.', 'MR.', 'MRS.', 'MISS.', 'MASTER.', 'MISS.', 'MR.', 'REV', 'MRS.', 'MR.', 'MR.', 'MRS.', 'MISS.', 'MR.', 'MR.', 'MR.', 'MR.', 'MR.', 'MISS.', 'MISS.', 'MR.', 'MRS.', 'MRS.', 'MR.', 'MR.', 'MRS.', 'MR.', 'MRS.', 'MR.', 'MISS.', 'MR.', 'MISS.', 'MR.', 'MR.', 'MR.', 'MASTER.', 'MR.', 'MASTER.', 'MR.', 'MASTER.', 'MISS.', 'MR.', 'MRS.', 'MISS.', 'MASTER.', 'COL.', 'MISS.', 'MR.', 'MR.', 'MISS.', 'MR.', 'MISS.', 'MR.', 'MR.', 'MR.', 'MR.', 'MRS.', 'MISS.', 'MR.', 'MISS.', 'MR.', 'MRS.', 'MR.', 'MISS.', 'MR.', 'MRS.', 'MR.', 'MRS.', 'MRS.', 'MR.', 'MISS.', 'MR.', 'MR.', 'MR.', 'MISS.', 'MR.', 'MR.', 'MR.', 'MR.', 'MR.', 'MR.', 'MISS.', 'MRS.', 'MRS.', 'MRS.', 'MR.', 'MR.', 'MASTER.', 'MR.', 'MRS.', 'MR.', 'MRS.', 'MRS.', 'MISS.', 'MR.', 'MR.', 'MR.', 'MR.', 'MR.', 'MR.', 'MR.', 'MISS.', 'MR.', 'MR.', 'MR.', 'MRS.', 'MISS.', 'MR.', 'MR.', 'MR.', 'MR.', 'MISS.', 'MR.', 'MR.', 'MR.', 'MRS.', 'MISS.', 'MR.', 'MISS.', 'MR.', 'MR.', 'MR.', 'MR.', 'MISS.', 'MASTER.', 'MISS.', 'MISS.', 'MISS.', 'MR.', 'MR.', 'MR.', 'MR.', 'MR.', 'MR.', 'MISS.', 'MR.', 'DR.', 'MR.', 'MR.', 'MISS.', 'MR.', 'MR.', 'MR.', 'MR.', 'MR.', 'MR.', 'MR.', 'MISS.', 'MRS.', 'MR.', 'MASTER.', 'MR.', 'MRS.', 'MR.', 'MR.', 'MR.', 'MISS.', 'MRS.', 'MISS.', 'MR.', 'MR.', 'MR.', 'MR.', 'MR.', 'MR.', 'MR.', 'MR.', 'MISS.', 'MR.', 'MISS.', 'MR.', 'MR.', 'MR.', 'MRS.', 'MR.', 'MR.', 'MRS.', 'MR.', 'MR.', 'MR.', 'MR.', 'MR.', 'MASTER.', 'MR.', 'MR.', 'MR.', 'MRS.', 'MASTER.', 'MISS.', 'MR.', 'MRS.', 'MR.', 'MISS.', 'MRS.', 'MR.', 'MR.', 'MR.', 'MISS.', 'MR.', 'MRS.', 'MR.', 'MR.', 'MRS.', 'MASTER.', 'MRS.', 'MRS.', 'MR.', 'MRS.', 'MRS.', 'MR.', 'MISS.', 'MRS.', 'MR.', 'MR.', 'MISS.', 'MR.', 'MR.', 'MRS.', 'MISS.', 'MISS.', 'MR.', 'MR.', 'MASTER.', 'MR.', 'MR.', 'MRS.', 'MRS.', 'MR.', 'MISS.', 'MR.', 'MR.', 'MR.', 'MASTER.', 'MR.', 'MRS.', 'MASTER.', 'MR.', 'MR.', 'MRS.', 'MR.', 'MRS.', 'MR.', 'MR.', 'MISS.', 'MR.', 'MISS.', 'MR.', 'MR.', 'MR.', 'MR.', 'MR.', 'MISS.', 'MISS.', 'MISS.', 'MRS.', 'MISS.', 'MR.', 'DON', 'MR.', 'MR.', 'MASTER.']\n"
     ]
    }
   ],
   "source": [
    "\"ENCODE REST OF NAMES IN TEST DATASET\"\n",
    "\n",
    "titles_list_test_cleaned=[]\n",
    "for i in titles_list_test:\n",
    "    contains=False\n",
    "    for j in rem_titles:\n",
    "        if j in i:\n",
    "            contains = True\n",
    "            break\n",
    "    if contains:\n",
    "        titles_list_test_cleaned.append(j)\n",
    "    else:\n",
    "        titles_list_test_cleaned.append(i)\n",
    "print(titles_list_test_cleaned)\n"
   ]
  },
  {
   "cell_type": "code",
   "execution_count": 2131,
   "id": "e1e6d540",
   "metadata": {},
   "outputs": [
    {
     "name": "stdout",
     "output_type": "stream",
     "text": [
      "['MRS.', 'MR.', 'DR.', 'MASTER.', 'MISS.']\n"
     ]
    }
   ],
   "source": [
    "\"REPLACE NAMES WITH TITLES\"\n",
    "\n",
    "train_titanic['titles'] = titles_list_train_cleaned\n",
    "test_titanic['titles'] = titles_list_test_cleaned\n",
    "\n",
    "train_titanic.drop(['Name'], axis = 1, inplace = True)\n",
    "test_titanic.drop(['Name'], axis = 1, inplace = True) \n",
    "\n",
    "print(titles[0:10])"
   ]
  },
  {
   "cell_type": "code",
   "execution_count": 2132,
   "id": "9d79cbe1",
   "metadata": {},
   "outputs": [
    {
     "name": "stdout",
     "output_type": "stream",
     "text": [
      "Survived  titles   \n",
      "0         MR.          436\n",
      "          MISS.         55\n",
      "          MRS.          26\n",
      "          MASTER.       17\n",
      "          REV            6\n",
      "          DR.            4\n",
      "          CAPT           1\n",
      "          COL.           1\n",
      "          DON            1\n",
      "          JONKHEER.      1\n",
      "          MAJOR.         1\n",
      "1         MISS.        127\n",
      "          MRS.          99\n",
      "          MR.           81\n",
      "          MASTER.       23\n",
      "          DR.            3\n",
      "          DON            2\n",
      "          MLLE.          2\n",
      "          COL.           1\n",
      "          COUNTESS.      1\n",
      "          MAJOR.         1\n",
      "          MME.           1\n",
      "          MS.            1\n",
      "Name: titles, dtype: int64\n",
      "[[1, 1, 0, 1, 4, 1, 1, 17, 55, 0, 0, 436, 26, 0, 6], [0, 1, 1, 2, 3, 0, 1, 23, 127, 2, 1, 81, 99, 1, 0]] groups_titles_ordered\n",
      "['CAPT', 'COL.', 'COUNTESS.', 'DON', 'DR.', 'JONKHEER.', 'MAJOR.', 'MASTER.', 'MISS.', 'MLLE.', 'MME.', 'MR.', 'MRS.', 'MS.', 'REV'] titles_categories_train\n",
      "[1, 1, 0, 1, 4, 1, 1, 17, 55, 0, 0, 436, 26, 0, 6]\n",
      "[0, 1, 1, 2, 3, 0, 1, 23, 127, 2, 1, 81, 99, 1, 0]\n",
      "[0.0, 0.5, 1.0, 0.6666666666666666, 0.42857142857142855, 0.0, 0.5, 0.575, 0.6978021978021978, 1.0, 1.0, 0.15667311411992263, 0.792, 1.0, 0.0]\n",
      "[0.15667311411992263, 0.792, 0.6978021978021978, 0.792, 0.15667311411992263, 0.15667311411992263, 0.15667311411992263, 0.575, 0.792, 0.792]\n",
      "['MR.', 'MRS.', 'MISS.', 'MRS.', 'MR.', 'MR.', 'MR.', 'MASTER.', 'MRS.', 'MRS.']\n",
      "[0.15667311411992263, 0.792, 0.15667311411992263, 0.15667311411992263, 0.792, 0.15667311411992263, 0.6978021978021978, 0.15667311411992263, 0.792, 0.15667311411992263]\n",
      "['MR.', 'MRS.', 'MR.', 'MR.', 'MRS.', 'MR.', 'MISS.', 'MR.', 'MRS.', 'MR.']\n"
     ]
    },
    {
     "data": {
      "image/png": "[encoded data removed]",
      "text/plain": [
       "<Figure size 432x288 with 1 Axes>"
      ]
     },
     "metadata": {},
     "output_type": "display_data"
    }
   ],
   "source": [
    "\"NUMBER OF SURVIVORS ACCORDING TO THEIR TITLES\"\n",
    "\n",
    "\n",
    "(train_titanic.groupby('Survived')['titles'].value_counts().plot.bar())\n",
    "\n",
    "groups_titles=(train_titanic.groupby('Survived')['titles'].value_counts())\n",
    "print((groups_titles))\n",
    "\n",
    "groups_titles_ordered=list(groups_titles.unstack(fill_value=0).T.to_dict('list').values())\n",
    "print(groups_titles_ordered,'groups_titles_ordered')\n",
    "\n",
    "titles_categories_zero=groups_titles_ordered[0]\n",
    "titles_categories_one=groups_titles_ordered[1]\n",
    "\n",
    "titles_categories_train=(sorted(train_titanic.titles.value_counts().index.tolist()) )\n",
    "print(titles_categories_train,'titles_categories_train')\n",
    "\n",
    "print(titles_categories_zero)\n",
    "print(titles_categories_one)\n",
    "titles_zipped_groups=zip(titles_categories_zero,titles_categories_one)\n",
    "titles_summed_zip=[x + y for (x, y) in titles_zipped_groups]\n",
    "titles_zipped_prop=zip(titles_categories_one,titles_summed_zip)\n",
    "titles_group_list_proportion=[x / y for (x, y) in titles_zipped_prop]\n",
    "\n",
    "print(titles_group_list_proportion)\n",
    "\n",
    "list_prop_titles_train=[]\n",
    "for i in train_titanic.titles:\n",
    "    for j in titles_categories_train:\n",
    "        if i == (j):\n",
    "            list_prop_titles_train.append(titles_group_list_proportion[titles_categories_train.index(j)])\n",
    "print(list_prop_titles_train[:10])\n",
    "print(train_titanic['titles'].tolist()[:10])\n",
    "\n",
    "list_prop_titles_test=[]\n",
    "#missing_age=[]\n",
    "for i in test_titanic.titles:\n",
    "    for j in titles_categories_train:\n",
    "        if i == (j):\n",
    "            list_prop_titles_test.append(titles_group_list_proportion[titles_categories_train.index(j)])\n",
    "        #elif i is np.nan:\n",
    "         #   list_prop_age_groups_test.append('nan')\n",
    "print(list_prop_titles_test[:10])\n",
    "print(test_titanic['titles'].tolist()[:10])\n",
    "\n",
    "train_titanic['titles_surv_prop']=list_prop_titles_train\n",
    "test_titanic['titles_surv_prop']=list_prop_titles_test"
   ]
  },
  {
   "cell_type": "code",
   "execution_count": 2133,
   "id": "2706164a",
   "metadata": {},
   "outputs": [
    {
     "name": "stdout",
     "output_type": "stream",
     "text": [
      "0      A/\n",
      "1      PC\n",
      "2      ST\n",
      "3      11\n",
      "4      37\n",
      "5      33\n",
      "6      17\n",
      "7      34\n",
      "8      34\n",
      "9      23\n",
      "10     PP\n",
      "11     11\n",
      "12     A/\n",
      "13     34\n",
      "14     35\n",
      "15     24\n",
      "16     38\n",
      "17     24\n",
      "18     34\n",
      "19     26\n",
      "20     23\n",
      "21     24\n",
      "22     33\n",
      "23     11\n",
      "24     34\n",
      "25     34\n",
      "26     26\n",
      "27     19\n",
      "28     33\n",
      "29     34\n",
      "       ..\n",
      "861    28\n",
      "862    17\n",
      "863    CA\n",
      "864    23\n",
      "865    23\n",
      "866    SC\n",
      "867    PC\n",
      "868    34\n",
      "869    34\n",
      "870    34\n",
      "871    11\n",
      "872    69\n",
      "873    34\n",
      "874    P/\n",
      "875    26\n",
      "876    75\n",
      "877    34\n",
      "878    34\n",
      "879    11\n",
      "880    23\n",
      "881    34\n",
      "882    75\n",
      "883     C\n",
      "884    SO\n",
      "885    38\n",
      "886    21\n",
      "887    11\n",
      "888     W\n",
      "889    11\n",
      "890    37\n",
      "Name: Ticket, Length: 891, dtype: object\n",
      "0      33\n",
      "1      36\n",
      "2      24\n",
      "3      31\n",
      "4      31\n",
      "5      75\n",
      "6      33\n",
      "7      24\n",
      "8      26\n",
      "9      A/\n",
      "10     34\n",
      "11     69\n",
      "12     21\n",
      "13     24\n",
      "14      W\n",
      "15     SC\n",
      "16     23\n",
      "17     26\n",
      "18     ST\n",
      "19     26\n",
      "20     PC\n",
      "21      C\n",
      "22     PC\n",
      "23     PC\n",
      "24     PC\n",
      "25     A/\n",
      "26     11\n",
      "27     26\n",
      "28     11\n",
      "29     26\n",
      "       ..\n",
      "388    36\n",
      "389    34\n",
      "390    12\n",
      "391    PC\n",
      "392     C\n",
      "393     C\n",
      "394    31\n",
      "395    13\n",
      "396    37\n",
      "397    13\n",
      "398    34\n",
      "399    21\n",
      "400    36\n",
      "401    28\n",
      "402    11\n",
      "403    11\n",
      "404    17\n",
      "405    SC\n",
      "406    28\n",
      "407    11\n",
      "408    33\n",
      "409    SO\n",
      "410    36\n",
      "411    19\n",
      "412    34\n",
      "413     A\n",
      "414    PC\n",
      "415    SO\n",
      "416    35\n",
      "417    26\n",
      "Name: Ticket, Length: 418, dtype: object\n"
     ]
    }
   ],
   "source": [
    "\"TICKET CLEANING\"\n",
    "\n",
    "train_titanic['Ticket'] = np.where(train_titanic['Ticket'].str.isnumeric(),train_titanic['Ticket'].str[:],train_titanic['Ticket'].str.extract(\"^([A-Z/]*)\", expand=False))\n",
    "#print(train_titanic['Ticket']) \n",
    "train_ticket_list=[]\n",
    "for i in train_titanic['Ticket']:\n",
    "    train_ticket_list.append(i[0:2])\n",
    "    \n",
    "train_titanic['Ticket']=train_ticket_list\n",
    "print(train_titanic['Ticket'])\n",
    "\n",
    "\n",
    "test_titanic['Ticket'] = np.where(test_titanic['Ticket'].str.isnumeric(),test_titanic['Ticket'].str[:],test_titanic['Ticket'].str.extract(\"^([A-Z/]*)\", expand=False))\n",
    "#print(train_titanic['Ticket']) \n",
    "test_ticket_list=[]\n",
    "for i in test_titanic['Ticket']:\n",
    "    test_ticket_list.append(i[0:2])\n",
    "    \n",
    "test_titanic['Ticket']=test_ticket_list\n",
    "print(test_titanic['Ticket'])"
   ]
  },
  {
   "cell_type": "code",
   "execution_count": 2134,
   "id": "674dc284",
   "metadata": {},
   "outputs": [],
   "source": [
    "#dasfsdfadgf"
   ]
  },
  {
   "cell_type": "code",
   "execution_count": 2135,
   "id": "64a8a93f",
   "metadata": {},
   "outputs": [],
   "source": [
    "test_titanic['Ticket']=test_titanic['Ticket'].replace(to_replace='^', value=0, regex=True)\n"
   ]
  },
  {
   "cell_type": "code",
   "execution_count": 2136,
   "id": "703aaf9b",
   "metadata": {},
   "outputs": [],
   "source": [
    "#train_titanic.drop(['PassengerId'], axis = 1, inplace = True) \n",
    "#test_titanic.drop(['PassengerId'], axis = 1, inplace = True) \n",
    "\n",
    "train_titanic.drop(['Sex'], axis = 1, inplace = True) #TOO MANY MISSING ENTRIES\n",
    "test_titanic.drop(['Sex'], axis = 1, inplace = True) #TOO MANY MISSING ENTRIES\n",
    "train_titanic.drop(['SibSp'], axis = 1, inplace = True) #TOO MANY MISSING ENTRIES\n",
    "test_titanic.drop(['SibSp'], axis = 1, inplace = True) #TOO MANY MISSING ENTRIES\n",
    "train_titanic.drop(['Embarked'], axis = 1, inplace = True) #TOO MANY MISSING ENTRIES\n",
    "test_titanic.drop(['Embarked'], axis = 1, inplace = True)\n",
    "\n",
    "train_titanic.drop(['Age'], axis = 1, inplace = True) #TOO MANY MISSING ENTRIES\n",
    "test_titanic.drop(['Age'], axis = 1, inplace = True)\n",
    "\n",
    "train_titanic.drop(['Pclass'], axis = 1, inplace = True) #TOO MANY MISSING ENTRIES\n",
    "test_titanic.drop(['Pclass'], axis = 1, inplace = True)\n",
    "\n",
    "train_titanic.drop(['Ticket'], axis = 1, inplace = True) #TOO MANY MISSING ENTRIES\n",
    "test_titanic.drop(['Ticket'], axis = 1, inplace = True)\n",
    "\n",
    "train_titanic.drop(['Parch'], axis = 1, inplace = True) #TOO MANY MISSING ENTRIES\n",
    "test_titanic.drop(['Parch'], axis = 1, inplace = True)\n",
    "train_titanic.drop(['Fare'], axis = 1, inplace = True) #TOO MANY MISSING ENTRIES\n",
    "test_titanic.drop(['Fare'], axis = 1, inplace = True)\n",
    "\n",
    "train_titanic.drop(['Age_Groups'], axis = 1, inplace = True) #TOO MANY MISSING ENTRIES\n",
    "test_titanic.drop(['Age_Groups'], axis = 1, inplace = True)\n",
    "train_titanic.drop(['titles'], axis = 1, inplace = True) #TOO MANY MISSING ENTRIES\n",
    "test_titanic.drop(['titles'], axis = 1, inplace = True)\n"
   ]
  },
  {
   "cell_type": "code",
   "execution_count": 2137,
   "id": "c14cac1d",
   "metadata": {},
   "outputs": [
    {
     "data": {
      "image/png": "[encoded data removed]",
      "text/plain": [
       "<Figure size 720x720 with 2 Axes>"
      ]
     },
     "metadata": {},
     "output_type": "display_data"
    }
   ],
   "source": [
    "plt.figure(figsize=(10,10))\n",
    "sns.set(font_scale=1)\n",
    "heatmap = sns.heatmap(train_titanic.corr(),xticklabels=True, yticklabels=True, vmin=-1, vmax=1,annot=True)\n",
    "heatmap.set_title('Correlation Heatmap', fontdict={'fontsize':0.1}, pad=1)\n",
    "plt.show()"
   ]
  },
  {
   "cell_type": "code",
   "execution_count": 2138,
   "id": "619a1a00",
   "metadata": {},
   "outputs": [
    {
     "name": "stderr",
     "output_type": "stream",
     "text": [
      "<ipython-input-2138-a81609795fab>:9: SettingWithCopyWarning: \n",
      "A value is trying to be set on a copy of a slice from a DataFrame\n",
      "\n",
      "See the caveats in the documentation: https://pandas.pydata.org/pandas-docs/stable/user_guide/indexing.html#returning-a-view-versus-a-copy\n",
      "  train_titanic[i][j]=1\n"
     ]
    },
    {
     "name": "stdout",
     "output_type": "stream",
     "text": [
      "[0.         0.24236253 0.18890815 0.3559322  0.53588517 0.15667311]\n",
      "[0.24236253 0.18890815 0.44067797 0.34539474 0.15667311]\n"
     ]
    }
   ],
   "source": [
    "id_list_train=train_titanic['PassengerId'].values.tolist()\n",
    "id_list_test=test_titanic['PassengerId'].values.tolist()\n",
    "train_titanic.drop(['PassengerId'], axis = 1, inplace = True) #TOO MANY MISSING ENTRIES\n",
    "test_titanic.drop(['PassengerId'], axis = 1, inplace = True)\n",
    "\n",
    "for i in train_titanic.columns:\n",
    "    for j in range(len(train_titanic['age_surv_prop'])):\n",
    "        if train_titanic[i][j]>=0.7:\n",
    "            train_titanic[i][j]=1\n",
    "       # else:\n",
    "        #    train_titanic[i][j] = 0\n",
    "print(train_titanic.values[0])\n",
    "\n",
    "for i in test_titanic.columns:\n",
    "    for j in range(len(test_titanic['age_surv_prop'])):\n",
    "        if test_titanic[i][j]>=0.5:\n",
    "            test_titanic[i][j]=1\n",
    "        #else:\n",
    "         #   test_titanic[i][j] = 0\n",
    "print(test_titanic.values[0])\n"
   ]
  },
  {
   "cell_type": "code",
   "execution_count": 2139,
   "id": "4d7d7565",
   "metadata": {},
   "outputs": [
    {
     "data": {
      "image/png": "[encoded data removed]",
      "text/plain": [
       "<Figure size 720x720 with 2 Axes>"
      ]
     },
     "metadata": {},
     "output_type": "display_data"
    }
   ],
   "source": [
    "plt.figure(figsize=(10,10))\n",
    "sns.set(font_scale=1)\n",
    "heatmap = sns.heatmap(train_titanic.corr(),xticklabels=True, yticklabels=True, vmin=-1, vmax=1,annot=True)\n",
    "heatmap.set_title('Correlation Heatmap', fontdict={'fontsize':0.1}, pad=1)\n",
    "plt.show()"
   ]
  },
  {
   "cell_type": "code",
   "execution_count": 2140,
   "id": "027db9f8",
   "metadata": {},
   "outputs": [
    {
     "name": "stdout",
     "output_type": "stream",
     "text": [
      "Index(['Survived', 'class_surv_prop', 'sex_surv_prop', 'age_surv_prop',\n",
      "       'sib_surv_prop', 'titles_surv_prop', 'PassengerId'],\n",
      "      dtype='object')\n",
      "Index(['class_surv_prop', 'sex_surv_prop', 'age_surv_prop', 'sib_surv_prop',\n",
      "       'titles_surv_prop', 'PassengerId'],\n",
      "      dtype='object')\n"
     ]
    }
   ],
   "source": [
    "train_titanic['PassengerId']=id_list_train\n",
    "test_titanic['PassengerId']=id_list_test\n",
    "\n",
    "print(train_titanic.columns)\n",
    "print(test_titanic.columns)"
   ]
  },
  {
   "cell_type": "code",
   "execution_count": 2141,
   "id": "9017b4dd",
   "metadata": {},
   "outputs": [],
   "source": [
    "#hjk,."
   ]
  },
  {
   "cell_type": "code",
   "execution_count": 2142,
   "id": "7da55a22",
   "metadata": {},
   "outputs": [
    {
     "name": "stdout",
     "output_type": "stream",
     "text": [
      "[0.         0.24236253 0.18890815 0.3559322  0.53588517 0.15667311\n",
      " 1.        ]\n",
      "============================\n",
      "[0.24236253 0.18890815 0.3559322  0.53588517 0.15667311]\n",
      "[0.29595223120254116, 0.721238552639088, 0.5247419498239785, 0.721238552639088, 0.2748032976205121, 0.25429776220364136, 0.3574544585677827, 0.38458746754110085, 0.585181510263539, 0.6843509465363012, 0.6285433114782455, 0.6095653128547867, 0.2578541450781392, 0.31290138374491405, 0.5397205876726842, 0.6569774980930587, 0.36792080087443424, 0.30039047450329603, 0.6232795963879408, 0.585181510263539, 0.32089600992016676, 0.32089600992016676, 0.5397205876726842, 0.33175118303791756, 0.5713662779854225, 0.6437851318048116, 0.25429776220364136, 0.3162286185439944, 0.5247419498239785, 0.25429776220364136, 0.4542554289641371, 0.7007330172222171, 0.5247419498239785, 0.23276041669982778, 0.36984926916231947, 0.3707906399302799, 0.25429776220364136, 0.2578541450781392, 0.5520765281871982, 0.5778186737970861, 0.6437851318048116, 0.6693723086875956, 0.25429776220364136, 0.6746360237779003, 0.5282983326984765, 0.25429776220364136, 0.2923958483280433, 0.5247419498239785, 0.27807595769236315, 0.6268359792624387, 0.36792080087443424, 0.2578541450781392, 0.7264362927520823, 0.6693723086875956, 0.26412112523444936, 0.33175118303791756, 0.5743910449981311, 0.25429776220364136, 0.6746360237779003, 0.28386282985994143, 0.2578541450781392, 0.6227009060751255, 0.3707906399302799, 0.38458746754110085, 0.33175118303791756, 0.37606122550405874, 0.6312742225631937, 0.2578541450781392, 0.4925527186633887, 0.27807595769236315, 0.30039047450329603, 0.47064164030426314, 0.30394685737779387, 0.2923958483280433, 0.25429776220364136, 0.25429776220364136, 0.25429776220364136, 0.25429776220364136, 0.4497591272091766, 0.5247419498239785, 0.2578541450781392, 0.25429776220364136, 0.5247419498239785, 0.33175118303791756, 0.5743910449981311, 0.5866080983119886, 0.30737448617674895, 0.25429776220364136, 0.5866728061643316, 0.2578541450781392, 0.25429776220364136, 0.2578541450781392, 0.3707906399302799, 0.2923958483280433, 0.2616677044001731, 0.25429776220364136, 0.26412112523444936, 0.3353075659124155, 0.6517797579800644, 0.35899409604456867, 0.5247419498239785, 0.25429776220364136, 0.3353075659124155, 0.2748032976205121, 0.29858149310923393, 0.25429776220364136, 0.5282983326984765, 0.25429776220364136, 0.2748032976205121, 0.5628400359483804, 0.3326925538058779, 0.5778186737970861, 0.2578541450781392, 0.5663964188228784, 0.5282983326984765, 0.2578541450781392, 0.18666770440017313, 0.3384885606276979, 0.3353075659124155, 0.5546996113187559, 0.3277250528665157, 0.25429776220364136, 0.35899409604456867, 0.5913401975405039, 0.3574544585677827, 0.3910398633527644, 0.25429776220364136, 0.2578541450781392, 0.5628400359483804, 0.2552391329716017, 0.2748032976205121, 0.2578541450781392, 0.6242209671559013, 0.6693723086875956, 0.30039047450329603, 0.30394685737779387, 0.6057517535327527, 0.3903548045791903, 0.26927640005234704, 0.3353075659124155, 0.585181510263539, 0.5282983326984765, 0.6268359792624387, 0.2578541450781392, 0.30394685737779387, 0.34204494350219583, 0.25429776220364136, 0.563498783161406, 0.32089600992016676, 0.26999722244727187, 0.29475912720917663, 0.704289400096715, 0.2800010377335065, 0.2552391329716017, 0.25429776220364136, 0.3574544585677827, 0.5397205876726842, 0.25429776220364136, 0.25429776220364136, 0.26888419201123576, 0.2552391329716017, 0.6517797579800644, 0.25429776220364136, 0.2578541450781392, 0.36792080087443424, 0.3529417772283625, 0.6626349310978152, 0.6242209671559013, 0.33175118303791756, 0.25429776220364136, 0.33912112523444937, 0.36792080087443424, 0.6285433114782455, 0.2578541450781392, 0.3574544585677827, 0.29595223120254116, 0.31888419201123575, 0.62789864618812, 0.30039047450329603, 0.2748032976205121, 0.45566300245555746, 0.30039047450329603, 0.3171961631932748, 0.4735373226978984, 0.5904452253538436, 0.33175118303791756, 0.6232795963879408, 0.3326925538058779, 0.31290138374491405, 0.2748032976205121, 0.6312742225631937, 0.30394685737779387, 0.5663964188228784, 0.4878572133335785, 0.6635763018657757, 0.6095653128547867, 0.25429776220364136, 0.2552391329716017, 0.5247419498239785, 0.5743910449981311, 0.25429776220364136, 0.1852188148352203, 0.2748032976205121, 0.2552391329716017, 0.2578541450781392, 0.5904452253538436, 0.2923958483280433, 0.25429776220364136, 0.5397205876726842, 0.35225671845478834, 0.2578541450781392, 0.5913401975405039, 0.2578541450781392, 0.30039047450329603, 0.2923958483280433, 0.6402934567826566, 0.5247419498239785, 0.3394299313956583, 0.6021953706582547, 0.30039047450329603, 0.26927640005234704, 0.30039047450329603, 0.2800010377335065, 0.25429776220364136, 0.3903548045791903, 0.2578541450781392, 0.30394685737779387, 0.2578541450781392, 0.30394685737779387, 0.5056630024555575, 0.721238552639088, 0.25429776220364136, 0.3077604166998278, 0.5546996113187559, 0.30394685737779387, 0.5247419498239785, 0.3394299313956583, 0.6365379376534983, 0.30394685737779387, 0.32089600992016676, 0.5628400359483804, 0.5628400359483804, 0.30039047450329603, 0.2578541450781392, 0.25429776220364136, 0.4108504121849009, 0.5247419498239785, 0.6348306054376914, 0.3903548045791903, 0.33285721333357854, 0.25429776220364136, 0.6232795963879408, 0.33912112523444937, 0.2923958483280433, 0.5861228810314993, 0.585181510263539, 0.6626349310978152, 0.6021953706582547, 0.6227009060751255, 0.6569774980930587, 0.25429776220364136, 0.36792080087443424, 0.39555254469218465, 0.35225671845478834, 0.5247419498239785, 0.32089600992016676, 0.23353078601725935, 0.2923958483280433, 0.670004873294347, 0.6227009060751255, 0.33175118303791756, 0.25429776220364136, 0.632215593331154, 0.35225671845478834, 0.5247419498239785, 0.6476633989791886, 0.5256833205919389, 0.30039047450329603, 0.36792080087443424, 0.6437851318048116, 0.18666770440017313, 0.25429776220364136, 0.26927640005234704, 0.2578541450781392, 0.33175118303791756, 0.2748032976205121, 0.25429776220364136, 0.2578541450781392, 0.3013318452712564, 0.5282983326984765, 0.6021953706582547, 0.704289400096715, 0.32089600992016676, 0.5282983326984765, 0.2578541450781392, 0.33175118303791756, 0.2578541450781392, 0.7059967323125218, 0.33175118303791756, 0.6883382066276804, 0.5247419498239785, 0.27807595769236315, 0.2578541450781392, 0.5708346621236332, 0.25429776220364136, 0.5192179218682, 0.6021953706582547, 0.704289400096715, 0.3384885606276979, 0.6021953706582547, 0.6057517535327527, 0.6295299490214745, 0.6693723086875956, 0.25429776220364136, 0.3394299313956583, 0.5247419498239785, 0.6729286915620933, 0.3804734129234623, 0.6021953706582547, 0.721238552639088, 0.2578541450781392, 0.25429776220364136, 0.5708346621236332, 0.6729286915620933, 0.1852188148352203, 0.6227009060751255, 0.2616677044001731, 0.6517797579800644, 0.6232795963879408, 0.6171740085069605, 0.5485201453127002, 0.3326925538058779, 0.35225671845478834, 0.29305459554106883, 0.7007330172222171, 0.25429776220364136, 0.36984926916231947, 0.6031367414262151, 0.2552391329716017, 0.3326925538058779, 0.4878572133335785, 0.5866728061643316, 0.30039047450329603, 0.30039047450329603, 0.32089600992016676, 0.5743910449981311, 0.5913401975405039, 0.6232795963879408, 0.4417645010339239, 0.2552391329716017, 0.2578541450781392, 0.33175118303791756, 0.30737448617674895, 0.2923958483280433, 0.25429776220364136, 0.25429776220364136, 0.6057517535327527, 0.5913401975405039, 0.5247419498239785, 0.5247419498239785, 0.31290138374491405, 0.3384885606276979, 0.5861228810314993, 0.2748032976205121, 0.2923958483280433, 0.25429776220364136, 0.7081029594187489, 0.585181510263539, 0.5247419498239785, 0.6661913139723131, 0.36984926916231947, 0.29595223120254116, 0.2578541450781392, 0.3353075659124155, 0.5713662779854225, 0.7007330172222171, 0.5282983326984765, 0.33175118303791756, 0.2578541450781392, 0.2578541450781392, 0.6031367414262151, 0.5904452253538436, 0.25429776220364136, 0.721238552639088, 0.25429776220364136, 0.30394685737779387, 0.33458746754110086, 0.5913401975405039, 0.25429776220364136, 0.5743910449981311, 0.3903548045791903, 0.2578541450781392, 0.27807595769236315, 0.6438498396571546, 0.5887378931380368, 0.2578541450781392, 0.5247419498239785, 0.3013318452712564, 0.3583265202680951, 0.6312742225631937, 0.2748032976205121, 0.25429776220364136, 0.5663964188228784, 0.2923958483280433, 0.5282983326984765, 0.35899409604456867, 0.2800010377335065, 0.4878572133335785, 0.2578541450781392, 0.5056630024555575, 0.25429776220364136, 0.25429776220364136, 0.6607989921995274, 0.30039047450329603, 0.2552391329716017, 0.585181510263539, 0.6898778441044663, 0.5743910449981311, 0.30039047450329603, 0.5397205876726842, 0.25429776220364136, 0.2578541450781392, 0.25429776220364136, 0.6232795963879408, 0.29595223120254116, 0.25429776220364136, 0.6693723086875956, 0.5743910449981311, 0.25429776220364136, 0.25429776220364136, 0.33175118303791756, 0.6232795963879408, 0.6703136794555559, 0.2578541450781392, 0.39555254469218465, 0.6552720946313624, 0.5520765281871982, 0.6586088009264133, 0.3772192113588513, 0.30039047450329603, 0.6703136794555559, 0.2578541450781392, 0.2923958483280433, 0.6312742225631937, 0.25429776220364136, 0.48111983574379813, 0.5858132999723388, 0.35225671845478834, 0.6142234208425654, 0.4261198357437982, 0.35899409604456867, 0.2923958483280433, 0.33175118303791756, 0.39555254469218465, 0.25429776220364136, 0.25429776220364136, 0.26412112523444936, 0.7007330172222171, 0.5965379376534983, 0.25429776220364136, 0.3326925538058779, 0.2748032976205121, 0.3326925538058779, 0.3013318452712564, 0.25429776220364136, 0.2748032976205121, 0.30039047450329603, 0.3574544585677827, 0.25429776220364136, 0.6142234208425654, 0.25429776220364136, 0.2748032976205121, 0.6898778441044663, 0.6348306054376914, 0.5282983326984765, 0.33175118303791756, 0.35899409604456867, 0.2923958483280433, 0.2578541450781392, 0.5904452253538436, 0.28386282985994143, 0.30039047450329603, 0.2800010377335065, 0.5925514524600708, 0.36984926916231947, 0.5056630024555575, 0.721238552639088, 0.33912112523444937, 0.25429776220364136, 0.3910398633527644, 0.2923958483280433, 0.2578541450781392, 0.3574544585677827, 0.26412112523444936, 0.2578541450781392, 0.25429776220364136, 0.6659967323125219, 0.25429776220364136, 0.7007330172222171, 0.2578541450781392, 0.2578541450781392, 0.5282983326984765, 0.5247419498239785, 0.5452474852408493, 0.6171740085069605, 0.37340565203681736, 0.6517797579800644, 0.33175118303791756, 0.25429776220364136, 0.25429776220364136, 0.25429776220364136, 0.25429776220364136, 0.35225671845478834, 0.7264362927520823, 0.2578541450781392, 0.3326925538058779, 0.6517797579800644, 0.25429776220364136, 0.6898778441044663, 0.25429776220364136, 0.6021953706582547, 0.2578541450781392, 0.25429776220364136, 0.6635763018657757, 0.25429776220364136, 0.2552391329716017, 0.5965379376534983, 0.33175118303791756, 0.2748032976205121, 0.3277250528665157, 0.6746360237779003, 0.25429776220364136, 0.29595223120254116, 0.585181510263539, 0.5247419498239785, 0.6365379376534983, 0.40135793098189343, 0.6021953706582547, 0.25429776220364136, 0.6057517535327527, 0.6227009060751255, 0.5039749736375965, 0.5039749736375965, 0.3384885606276979, 0.39555254469218465, 0.33912112523444937, 0.6729286915620933, 0.30039047450329603, 0.31290138374491405, 0.4878572133335785, 0.3353075659124155, 0.30039047450329603, 0.25429776220364136, 0.2578541450781392, 0.5282983326984765, 0.33912112523444937, 0.6350077213235108, 0.33175118303791756, 0.721238552639088, 0.6437851318048116, 0.25429776220364136, 0.2748032976205121, 0.30039047450329603, 0.25429776220364136, 0.5247419498239785, 0.28163234056686104, 0.2578541450781392, 0.585181510263539, 0.25429776220364136, 0.25429776220364136, 0.3077604166998278, 0.7121164021164021, 0.35225671845478834, 0.5247419498239785, 0.26927640005234704, 0.2578541450781392, 0.5913401975405039, 0.721238552639088, 0.6232795963879408, 0.25429776220364136, 0.6089327482480351, 0.721238552639088, 0.32609375003316116, 0.35225671845478834, 0.25429776220364136, 0.6057517535327527, 0.3013318452712564, 0.3772192113588513, 0.2578541450781392, 0.25429776220364136, 0.2748032976205121, 0.7264362927520823, 0.2552391329716017, 0.5247419498239785, 0.35899409604456867, 0.31290138374491405, 0.5708346621236332, 0.2800010377335065, 0.25429776220364136, 0.4975512552015334, 0.6586088009264133, 0.25429776220364136, 0.33175118303791756, 0.2552391329716017, 0.35225671845478834, 0.31290138374491405, 0.25429776220364136, 0.33175118303791756, 0.6729286915620933, 0.6227009060751255, 0.6437851318048116, 0.25429776220364136, 0.5628400359483804, 0.25429776220364136, 0.2748032976205121, 0.612489131122533, 0.31290138374491405, 0.6232795963879408, 0.6603161331422202, 0.30039047450329603, 0.2923958483280433, 0.3707906399302799, 0.29595223120254116, 0.2578541450781392, 0.2578541450781392, 0.33912112523444937, 0.27642579387584326, 0.6057517535327527, 0.25429776220364136, 0.25429776220364136, 0.36412112523444934, 0.2800010377335065, 0.3861308459282188, 0.33175118303791756, 0.5206416403042631, 0.5708346621236332, 0.25429776220364136, 0.3384885606276979, 0.5861228810314993, 0.2923958483280433, 0.2578541450781392, 0.6661913139723131, 0.5713662779854225, 0.25429776220364136, 0.6142234208425654, 0.3707906399302799, 0.2578541450781392, 0.4261198357437982, 0.25429776220364136, 0.5282983326984765, 0.25429776220364136, 0.5743910449981311, 0.2578541450781392, 0.5247419498239785, 0.5282983326984765, 0.3277250528665157, 0.25429776220364136, 0.6232795963879408, 0.30394685737779387, 0.33912112523444937, 0.4356123169468057, 0.2748032976205121, 0.3326925538058779, 0.2748032976205121, 0.29595223120254116, 0.32416866999201777, 0.30039047450329603, 0.25429776220364136, 0.2552391329716017, 0.7007330172222171, 0.6898778441044663, 0.36984926916231947, 0.23276041669982778, 0.30039047450329603, 0.30039047450329603, 0.2578541450781392, 0.25429776220364136, 0.5282983326984765, 0.6242209671559013, 0.35225671845478834, 0.5247419498239785, 0.33175118303791756, 0.2578541450781392, 0.200197452683926, 0.3458585028242297, 0.3384885606276979, 0.23353078601725935, 0.2578541450781392, 0.2578541450781392, 0.6171740085069605, 0.36984926916231947, 0.5904452253538436, 0.25429776220364136, 0.25429776220364136, 0.4077865024104648, 0.32609375003316116, 0.2552391329716017, 0.5247419498239785, 0.39555254469218465, 0.2552391329716017, 0.704289400096715, 0.35225671845478834, 0.5282983326984765, 0.25429776220364136, 0.2923958483280433, 0.32089600992016676, 0.632215593331154, 0.3326925538058779, 0.6057517535327527, 0.37606122550405874, 0.6661913139723131, 0.33175118303791756, 0.3707906399302799, 0.25429776220364136, 0.32609375003316116, 0.2578541450781392, 0.6227009060751255, 0.5708346621236332, 0.25429776220364136, 0.2748032976205121, 0.6365379376534983, 0.29595223120254116, 0.32089600992016676, 0.32609375003316116, 0.36984926916231947, 0.2578541450781392, 0.6121952751947726, 0.5247419498239785, 0.3384885606276979, 0.5628400359483804, 0.6021953706582547, 0.26927640005234704, 0.30039047450329603, 0.30394685737779387, 0.30394685737779387, 0.25429776220364136, 0.6242209671559013, 0.35225671845478834, 0.25429776220364136, 0.25429776220364136, 0.33175118303791756, 0.3903548045791903, 0.6295299490214745, 0.29595223120254116, 0.25429776220364136, 0.27088458853486674, 0.30737448617674895, 0.5708346621236332, 0.37340565203681736, 0.25429776220364136, 0.6746360237779003, 0.403666414909522, 0.2748032976205121, 0.2578541450781392, 0.6703136794555559, 0.4878572133335785, 0.25429776220364136, 0.30394685737779387, 0.2748032976205121, 0.6831404665146861, 0.25429776220364136, 0.2552391329716017, 0.2578541450781392, 0.721238552639088, 0.26927640005234704, 0.7264362927520823, 0.3861308459282188, 0.5247419498239785, 0.2923958483280433, 0.25429776220364136, 0.2578541450781392, 0.2552391329716017, 0.6386441647597254, 0.25429776220364136, 0.6950755842174606, 0.2578541450781392, 0.25429776220364136, 0.5904452253538436, 0.25429776220364136, 0.6635763018657757, 0.5397205876726842, 0.704289400096715, 0.33175118303791756, 0.2923958483280433, 0.25429776220364136, 0.25429776220364136, 0.5282983326984765, 0.36792080087443424, 0.4417645010339239, 0.3326925538058779, 0.25429776220364136, 0.3153691123520017, 0.45566300245555746, 0.33175118303791756, 0.25429776220364136, 0.32089600992016676, 0.5740524923419661, 0.585181510263539, 0.25429776220364136, 0.6232795963879408, 0.32089600992016676, 0.6693723086875956, 0.4684932841870406, 0.403666414909522, 0.25429776220364136, 0.25429776220364136, 0.35225671845478834, 0.5282983326984765, 0.32089600992016676, 0.721238552639088, 0.25429776220364136, 0.2748032976205121, 0.32089600992016676, 0.5546996113187559, 0.25429776220364136, 0.33175118303791756, 0.5282983326984765, 0.3384885606276979, 0.2552391329716017, 0.3338628298599414, 0.7264362927520823, 0.25429776220364136, 0.3209220956308038, 0.585181510263539, 0.36792080087443424, 0.25429776220364136, 0.25429776220364136, 0.4497591272091766, 0.25429776220364136, 0.670004873294347, 0.6382582342366466, 0.4878572133335785, 0.25429776220364136, 0.2578541450781392, 0.2578541450781392, 0.6607989921995274, 0.2578541450781392, 0.25429776220364136, 0.25429776220364136, 0.33175118303791756, 0.2578541450781392, 0.3153691123520017, 0.6021953706582547, 0.2748032976205121, 0.2578541450781392, 0.2552391329716017, 0.1852188148352203, 0.2748032976205121, 0.26905585167931145, 0.7007330172222171, 0.36792080087443424, 0.28666770440017314, 0.5778186737970861, 0.6171740085069605, 0.6703136794555559, 0.5887378931380368, 0.7016743879901776, 0.3574544585677827, 0.5887378931380368, 0.25429776220364136, 0.2790173284603235, 0.34204494350219583, 0.6635763018657757, 0.45566300245555746, 0.30394685737779387, 0.632215593331154, 0.6089327482480351, 0.33175118303791756, 0.25429776220364136, 0.4417645010339239, 0.25429776220364136, 0.7016743879901776, 0.35225671845478834, 0.2552391329716017, 0.6693723086875956, 0.5397205876726842, 0.2578541450781392, 0.2578541450781392, 0.25429776220364136, 0.6883382066276804, 0.6312742225631937, 0.2748032976205121, 0.5282983326984765, 0.30039047450329603, 0.25429776220364136, 0.6056870456804097, 0.26905585167931145, 0.6057517535327527, 0.5628400359483804, 0.33175118303791756, 0.25429776220364136]\n",
      "[0, 1, 1, 1, 0, 0, 0, 0, 1, 1, 1, 1, 0, 0, 1, 1, 0, 0, 1, 1, 0, 0, 1, 0, 1, 1, 0, 0, 1, 0, 1, 1, 1, 0, 0, 0, 0, 0, 1, 1, 1, 1, 0, 1, 1, 0, 0, 1, 0, 1, 0, 0, 1, 1, 0, 0, 1, 0, 1, 0, 0, 1, 0, 0, 0, 0, 1, 0, 1, 0, 0, 1, 0, 0, 0, 0, 0, 0, 1, 1, 0, 0, 1, 0, 1, 1, 0, 0, 1, 0, 0, 0, 0, 0, 0, 0, 0, 0, 1, 0, 1, 0, 0, 0, 0, 0, 1, 0, 0, 1, 0, 1, 0, 1, 1, 0, 0, 0, 0, 1, 0, 0, 0, 1, 0, 0, 0, 0, 1, 0, 0, 0, 1, 1, 0, 0, 1, 0, 0, 0, 1, 1, 1, 0, 0, 0, 0, 1, 0, 0, 0, 1, 0, 0, 0, 0, 1, 0, 0, 0, 0, 1, 0, 0, 0, 0, 1, 1, 0, 0, 0, 0, 1, 0, 0, 0, 0, 1, 0, 0, 1, 0, 0, 1, 1, 0, 1, 0, 0, 0, 1, 0, 1, 1, 1, 1, 0, 0, 1, 1, 0, 0, 0, 0, 0, 1, 0, 0, 1, 0, 0, 1, 0, 0, 0, 1, 1, 0, 1, 0, 0, 0, 0, 0, 0, 0, 0, 0, 0, 1, 1, 0, 0, 1, 0, 1, 0, 1, 0, 0, 1, 1, 0, 0, 0, 1, 1, 1, 0, 0, 0, 1, 0, 0, 1, 1, 1, 1, 1, 1, 0, 0, 0, 0, 1, 0, 0, 0, 1, 1, 0, 0, 1, 0, 1, 1, 1, 0, 0, 1, 0, 0, 0, 0, 0, 0, 0, 0, 0, 1, 1, 1, 0, 1, 0, 0, 0, 1, 0, 1, 1, 0, 0, 1, 0, 1, 1, 1, 0, 1, 1, 1, 1, 0, 0, 1, 1, 0, 1, 1, 0, 0, 1, 1, 0, 1, 0, 1, 1, 1, 1, 0, 0, 0, 1, 0, 0, 1, 0, 0, 1, 1, 0, 0, 0, 1, 1, 1, 1, 0, 0, 0, 0, 0, 0, 0, 1, 1, 1, 1, 0, 0, 1, 0, 0, 0, 1, 1, 1, 1, 0, 0, 0, 0, 1, 1, 1, 0, 0, 0, 1, 1, 0, 1, 0, 0, 0, 1, 0, 1, 0, 0, 0, 1, 1, 0, 1, 0, 0, 1, 0, 0, 1, 0, 1, 0, 0, 1, 0, 1, 0, 0, 1, 0, 0, 1, 1, 1, 0, 1, 0, 0, 0, 1, 0, 0, 1, 1, 0, 0, 0, 1, 1, 0, 0, 1, 1, 1, 0, 0, 1, 0, 0, 1, 0, 1, 1, 0, 1, 1, 0, 0, 0, 0, 0, 0, 0, 1, 1, 0, 0, 0, 0, 0, 0, 0, 0, 0, 0, 1, 0, 0, 1, 1, 1, 0, 0, 0, 0, 1, 0, 0, 0, 1, 0, 1, 1, 0, 0, 0, 0, 0, 0, 0, 0, 0, 1, 0, 1, 0, 0, 1, 1, 1, 1, 0, 1, 0, 0, 0, 0, 0, 0, 1, 0, 0, 1, 0, 1, 0, 1, 0, 0, 1, 0, 0, 1, 0, 0, 0, 1, 0, 0, 1, 1, 1, 1, 1, 0, 1, 1, 1, 1, 0, 0, 0, 1, 0, 0, 1, 0, 0, 0, 0, 1, 0, 1, 0, 1, 1, 0, 0, 0, 0, 1, 0, 0, 1, 0, 0, 0, 1, 0, 1, 0, 0, 1, 1, 1, 0, 1, 1, 0, 0, 0, 1, 0, 0, 0, 0, 0, 1, 0, 1, 0, 0, 1, 0, 0, 1, 1, 0, 0, 0, 0, 0, 0, 0, 1, 1, 1, 0, 1, 0, 0, 1, 0, 1, 1, 0, 0, 0, 0, 0, 0, 0, 0, 1, 0, 0, 0, 0, 0, 0, 1, 1, 0, 0, 1, 0, 0, 1, 1, 0, 1, 0, 0, 1, 0, 1, 0, 1, 0, 1, 1, 0, 0, 1, 0, 0, 1, 0, 0, 0, 0, 0, 0, 0, 0, 1, 1, 0, 0, 0, 0, 0, 0, 1, 1, 0, 1, 0, 0, 0, 0, 0, 0, 0, 0, 1, 0, 1, 0, 0, 1, 0, 0, 1, 0, 0, 1, 0, 1, 0, 0, 0, 1, 0, 1, 0, 1, 0, 0, 0, 0, 0, 1, 1, 0, 0, 1, 0, 0, 0, 0, 0, 1, 1, 0, 1, 1, 0, 0, 0, 0, 0, 1, 0, 0, 0, 0, 0, 1, 0, 0, 0, 0, 1, 0, 0, 1, 1, 0, 0, 1, 1, 0, 0, 0, 1, 0, 0, 0, 1, 0, 1, 0, 1, 0, 0, 0, 0, 1, 0, 1, 0, 0, 1, 0, 1, 1, 1, 0, 0, 0, 0, 1, 0, 1, 0, 0, 0, 1, 0, 0, 0, 1, 1, 0, 1, 0, 1, 1, 1, 0, 0, 0, 1, 0, 1, 0, 0, 0, 1, 0, 0, 1, 0, 0, 0, 1, 0, 0, 1, 0, 0, 0, 1, 0, 1, 1, 1, 0, 0, 0, 1, 0, 0, 0, 0, 0, 0, 1, 0, 0, 0, 0, 0, 0, 1, 0, 0, 1, 1, 1, 1, 1, 0, 1, 0, 0, 0, 1, 1, 0, 1, 1, 0, 0, 1, 0, 1, 0, 0, 1, 1, 0, 0, 0, 1, 1, 0, 1, 0, 0, 1, 0, 1, 1, 0, 0]\n"
     ]
    }
   ],
   "source": [
    "\n",
    "\n",
    "list_df=[]\n",
    "for i in train_titanic.values:\n",
    "    list_df.append(i)\n",
    "print(list_df[0])\n",
    "print('============================')\n",
    "new_list_df=[]\n",
    "for i in list_df:\n",
    "    new_list_df.append(i[1:6])\n",
    "print(new_list_df[0])\n",
    "\n",
    "new_list_avg=[]\n",
    "for i in new_list_df:\n",
    "    new_list_avg.append((sum(i))/5)\n",
    "print(new_list_avg)\n",
    "res=[]\n",
    "for i in new_list_avg:\n",
    "    if i > 0.4:   # 0.42 = .98\n",
    "        res.append(1)\n",
    "    else:\n",
    "        res.append(0)\n",
    "print(res)"
   ]
  },
  {
   "cell_type": "code",
   "execution_count": 2143,
   "id": "06257253",
   "metadata": {},
   "outputs": [
    {
     "name": "stdout",
     "output_type": "stream",
     "text": [
      "0.1762697191227398\n"
     ]
    }
   ],
   "source": [
    "corr=r2_score(res,train_titanic.Survived)\n",
    "print(corr)"
   ]
  },
  {
   "cell_type": "code",
   "execution_count": 2144,
   "id": "8b71c7d7",
   "metadata": {},
   "outputs": [
    {
     "data": {
      "image/png": "[encoded data removed]",
      "text/plain": [
       "<Figure size 432x288 with 1 Axes>"
      ]
     },
     "metadata": {},
     "output_type": "display_data"
    }
   ],
   "source": [
    "#fghjkl\n",
    "plt.scatter(res, train_titanic.Survived)\n",
    "plt.show()"
   ]
  },
  {
   "cell_type": "code",
   "execution_count": 2145,
   "id": "542c1b86",
   "metadata": {},
   "outputs": [
    {
     "name": "stdout",
     "output_type": "stream",
     "text": [
      "Index(['class_surv_prop', 'sex_surv_prop', 'age_surv_prop', 'sib_surv_prop',\n",
      "       'titles_surv_prop', 'PassengerId'],\n",
      "      dtype='object')\n"
     ]
    }
   ],
   "source": [
    "print(test_titanic.columns)"
   ]
  },
  {
   "cell_type": "code",
   "execution_count": 2146,
   "id": "83d8ae7a",
   "metadata": {},
   "outputs": [
    {
     "name": "stdout",
     "output_type": "stream",
     "text": [
      "[2.42362525e-01 1.88908146e-01 4.40677966e-01 3.45394737e-01\n",
      " 1.56673114e-01 8.92000000e+02]\n",
      "============================\n",
      "[0.24236253 0.18890815 0.44067797 0.34539474 0.15667311]\n",
      "[0.2748032976205121, 0.7170439336630783, 0.3077604166998278, 0.25429776220364136, 0.7196589457696158, 0.26927640005234704, 0.585181510263539, 0.431311527134875, 0.5887378931380368, 0.28163234056686104, 0.25429776220364136, 0.40676662787995194, 0.8711864406779661, 0.43868146933140667, 0.8685714285714287, 0.7657516580692704, 0.32089600992016676, 0.2578541450781392, 0.716102562895118, 0.5861228810314993, 0.5624495852734357, 0.4379417772283626, 0.7367090051718892, 0.4093816399864895, 0.8685714285714287, 0.4109220903650854, 0.7402653880463872, 0.2578541450781392, 0.40676662787995194, 0.27807595769236315, 0.45701480266474004, 0.3277250528665157, 0.7366080983119886, 0.716102562895118, 0.5367463097435705, 0.2578541450781392, 0.585181510263539, 0.5887378931380368, 0.25429776220364136, 0.25429776220364136, 0.2748032976205121, 0.40582525711199163, 0.2552391329716017, 0.6312742225631937, 0.8685714285714287, 0.25429776220364136, 0.40676662787995194, 0.25429776220364136, 0.7440789473684211, 0.6056870456804097, 0.5403026926180684, 0.30039047450329603, 0.6586088009264133, 0.7176300578034682, 0.30039047450329603, 0.4021961631932748, 0.2748032976205121, 0.25429776220364136, 0.3852188148352203, 0.75721454058876, 0.2578541450781392, 0.30039047450329603, 0.2578541450781392, 0.5887378931380368, 0.6132474676254346, 0.6312742225631937, 0.5887378931380368, 0.40676662787995194, 0.40582525711199163, 0.875, 0.5887378931380368, 0.2578541450781392, 0.585181510263539, 0.40582525711199163, 0.75721454058876, 0.42633079252886236, 0.25429776220364136, 0.7861904761904762, 0.30039047450329603, 0.5887378931380368, 0.6862541342077675, 0.4691162519401023, 0.4315285326418567, 0.25429776220364136, 0.30039047450329603, 0.3852188148352203, 0.585181510263539, 0.5887378931380368, 0.585181510263539, 0.7323468465074222, 0.7196589457696158, 0.25429776220364136, 0.8676300578034681, 0.25429776220364136, 0.40582525711199163, 0.25429776220364136, 1.0, 0.25429776220364136, 0.5887378931380368, 0.2748032976205121, 0.8685714285714287, 0.431311527134875, 0.25429776220364136, 0.25429776220364136, 0.7310812007438237, 0.25429776220364136, 0.2578541450781392, 0.25429776220364136, 0.25429776220364136, 0.30394685737779387, 0.3013318452712564, 0.585181510263539, 0.75721454058876, 0.5887378931380368, 0.875, 0.3887751977097182, 0.25429776220364136, 0.8484725050916497, 0.42633079252886236, 0.7621952751947726, 0.6462528604118993, 0.3852188148352203, 0.8881355932203391, 0.25429776220364136, 0.25429776220364136, 0.5887378931380368, 0.2578541450781392, 0.6089597057522608, 0.3013318452712564, 0.2578541450781392, 0.25429776220364136, 0.6001939098178722, 0.585181510263539, 0.3852188148352203, 0.2552391329716017, 0.2578541450781392, 0.25429776220364136, 0.30039047450329603, 0.5887378931380368, 0.40572435025209097, 0.5310812007438236, 0.75721454058876, 0.5441162519401023, 0.30039047450329603, 0.40676662787995194, 0.23521881483522028, 0.40582525711199163, 0.2578541450781392, 0.40582525711199163, 0.3999769043108904, 0.7402653880463872, 0.25429776220364136, 0.2616677044001731, 0.6056870456804097, 0.4021961631932748, 0.2578541450781392, 0.7367090051718892, 0.5887378931380368, 0.40676662787995194, 0.585181510263539, 0.585181510263539, 0.6862541342077675, 0.6312742225631937, 0.25429776220364136, 0.26999722244727187, 0.716102562895118, 0.40676662787995194, 0.28163234056686104, 0.7367090051718892, 0.5887378931380368, 0.25429776220364136, 0.25429776220364136, 0.3887751977097182, 0.25429776220364136, 0.40572435025209097, 0.6462528604118993, 0.6348306054376914, 0.5624495852734357, 0.6517797579800644, 0.7440789473684211, 0.30039047450329603, 0.5572518451604414, 0.8711864406779661, 0.25429776220364136, 0.8676300578034681, 0.32089600992016676, 0.6348306054376914, 0.28163234056686104, 0.5161025628951179, 0.32089600992016676, 0.4518170625517457, 0.40582525711199163, 0.5688628298599415, 0.3077604166998278, 0.6014257938758433, 0.2748032976205121, 0.7068605764845388, 0.5887378931380368, 0.30394685737779387, 0.585181510263539, 0.585181510263539, 0.4229631393796568, 0.7063530576875464, 0.8945652173913043, 0.30039047450329603, 0.40582525711199163, 0.6056870456804097, 0.30394685737779387, 0.75721454058876, 0.25429776220364136, 0.25429776220364136, 0.25429776220364136, 0.30394685737779387, 0.7695652173913043, 0.569941431645322, 0.40676662787995194, 0.585181510263539, 0.5441162519401023, 0.8933333333333333, 0.25429776220364136, 0.7621952751947726, 0.2578541450781392, 0.6348306054376914, 0.2578541450781392, 0.7624122807017544, 0.585181510263539, 0.2578541450781392, 0.585181510263539, 0.2552391329716017, 0.32089600992016676, 0.3153691123520017, 0.7402653880463872, 0.3887751977097182, 0.25429776220364136, 0.5572518451604414, 0.2578541450781392, 0.5441162519401023, 0.2578541450781392, 0.7657516580692704, 0.8685714285714287, 0.7624122807017544, 0.632215593331154, 0.5376876805115309, 0.25429776220364136, 0.5538841920112357, 0.5376876805115309, 0.6348306054376914, 0.4322528979028353, 0.7621952751947726, 0.716102562895118, 0.8945652173913043, 0.2578541450781392, 0.5367463097435705, 0.2578541450781392, 0.2748032976205121, 0.25429776220364136, 0.25429776220364136, 0.25429776220364136, 0.6348306054376914, 0.2578541450781392, 0.40572435025209097, 0.2578541450781392, 0.6312742225631937, 0.8484725050916497, 0.30039047450329603, 0.25429776220364136, 0.40582525711199163, 0.25429776220364136, 0.585181510263539, 0.2578541450781392, 0.40676662787995194, 0.25429776220364136, 0.8676300578034681, 0.716102562895118, 0.25429776220364136, 0.7657516580692704, 0.30039047450329603, 0.4518170625517457, 0.431311527134875, 0.30394685737779387, 0.5887378931380368, 0.6862541342077675, 0.585181510263539, 0.7310812007438237, 0.8484725050916497, 0.2748032976205121, 0.25429776220364136, 0.5403026926180684, 0.25429776220364136, 0.25429776220364136, 0.40582525711199163, 0.585181510263539, 0.25429776220364136, 0.6168292481637369, 0.2748032976205121, 0.25429776220364136, 0.8945652173913043, 0.27807595769236315, 0.40582525711199163, 0.25429776220364136, 0.25429776220364136, 0.30039047450329603, 0.3013318452712564, 0.2578541450781392, 0.585181510263539, 0.875, 0.5367463097435705, 0.5553330815761885, 0.5624495852734357, 0.7170439336630783, 0.2578541450781392, 0.2578541450781392, 0.25429776220364136, 0.6056870456804097, 0.7624122807017544, 0.5887378931380368, 0.5441162519401023, 0.30394685737779387, 0.25429776220364136, 0.3277250528665157, 0.25429776220364136, 0.25429776220364136, 0.30039047450329603, 0.42633079252886236, 0.75721454058876, 0.2578541450781392, 0.6700310559006211, 0.40676662787995194, 0.431311527134875, 0.30394685737779387, 0.632215593331154, 0.42633079252886236, 0.25429776220364136, 0.7196589457696158, 0.25429776220364136, 0.40582525711199163, 0.30039047450329603, 0.2748032976205121, 0.30039047450329603, 0.4229631393796568, 0.30394685737779387, 0.25429776220364136, 0.3852188148352203, 0.7440789473684211, 0.5538841920112357, 0.6001601481122447, 0.30039047450329603, 0.6056870456804097, 0.30394685737779387, 0.6312742225631937, 0.7376503759398496, 0.30039047450329603, 0.30394685737779387, 0.45701480266474004, 0.716102562895118, 0.4315285326418567, 0.7678571428571429, 0.25429776220364136, 0.25429776220364136, 0.716102562895118, 0.36886282985994145, 0.7657516580692704, 0.6312742225631937, 0.25429776220364136, 0.8676300578034681, 0.716102562895118, 0.3852188148352203, 0.5887378931380368, 0.7376503759398496, 0.30039047450329603, 0.43486791000937275, 0.7367090051718892, 0.4315285326418567, 0.3013318452712564, 0.8933333333333333, 0.7376503759398496, 0.6125160886267587, 0.30394685737779387, 0.4315285326418567, 0.5195874675411009, 0.25429776220364136, 0.25429776220364136, 0.585181510263539, 0.7196589457696158, 0.30039047450329603, 0.7657516580692704, 0.2578541450781392, 0.3077604166998278, 0.2578541450781392, 0.5362541342077675, 0.4093816399864895, 0.7624122807017544, 0.4379417772283626, 0.3013318452712564, 0.23521881483522028, 0.8711864406779661, 0.2578541450781392, 0.8685714285714287, 0.2578541450781392, 0.25429776220364136, 0.7367090051718892, 0.4518170625517457, 0.7402653880463872, 0.4093816399864895, 0.5376876805115309, 0.30394685737779387, 0.43486791000937275, 0.5624495852734357, 0.585181510263539, 0.8484725050916497, 0.585181510263539, 0.8881355932203391, 0.585181510263539, 0.25429776220364136, 0.75721454058876, 0.2748032976205121, 0.25429776220364136, 0.5538841920112357]\n",
      "[0, 1, 1, 0, 1, 0, 1, 1, 1, 0, 0, 1, 1, 1, 1, 1, 1, 0, 1, 1, 1, 1, 1, 1, 1, 1, 1, 0, 1, 0, 1, 1, 1, 1, 1, 0, 1, 1, 0, 0, 0, 1, 0, 1, 1, 0, 1, 0, 1, 1, 1, 1, 1, 1, 1, 1, 0, 0, 1, 1, 0, 1, 0, 1, 1, 1, 1, 1, 1, 1, 1, 0, 1, 1, 1, 1, 0, 1, 1, 1, 1, 1, 1, 0, 1, 1, 1, 1, 1, 1, 1, 0, 1, 0, 1, 0, 1, 0, 1, 0, 1, 1, 0, 0, 1, 0, 0, 0, 0, 1, 1, 1, 1, 1, 1, 1, 0, 1, 1, 1, 1, 1, 1, 0, 0, 1, 0, 1, 1, 0, 0, 1, 1, 1, 0, 0, 0, 1, 1, 1, 1, 1, 1, 1, 1, 0, 1, 0, 1, 1, 1, 0, 0, 1, 1, 0, 1, 1, 1, 1, 1, 1, 1, 0, 0, 1, 1, 0, 1, 1, 0, 0, 1, 0, 1, 1, 1, 1, 1, 1, 1, 1, 1, 0, 1, 1, 1, 0, 1, 1, 1, 1, 1, 1, 1, 0, 1, 1, 1, 1, 1, 1, 1, 1, 1, 1, 1, 1, 1, 0, 0, 0, 1, 1, 1, 1, 1, 1, 1, 0, 1, 0, 1, 0, 1, 1, 0, 1, 0, 1, 1, 1, 1, 0, 1, 0, 1, 0, 1, 1, 1, 1, 1, 0, 1, 1, 1, 1, 1, 1, 1, 0, 1, 0, 0, 0, 0, 0, 1, 0, 1, 0, 1, 1, 1, 0, 1, 0, 1, 0, 1, 0, 1, 1, 0, 1, 1, 1, 1, 1, 1, 1, 1, 1, 1, 0, 0, 1, 0, 0, 1, 1, 0, 1, 0, 0, 1, 0, 1, 0, 0, 1, 1, 0, 1, 1, 1, 1, 1, 1, 0, 0, 0, 1, 1, 1, 1, 1, 0, 1, 0, 0, 1, 1, 1, 0, 1, 1, 1, 1, 1, 1, 0, 1, 0, 1, 1, 0, 1, 1, 1, 0, 1, 1, 1, 1, 1, 1, 1, 1, 1, 1, 1, 1, 1, 1, 1, 0, 0, 1, 1, 1, 1, 0, 1, 1, 1, 1, 1, 1, 1, 1, 1, 1, 1, 1, 1, 1, 1, 1, 0, 0, 1, 1, 1, 1, 0, 1, 0, 1, 1, 1, 1, 1, 0, 1, 0, 1, 0, 0, 1, 1, 1, 1, 1, 1, 1, 1, 1, 1, 1, 1, 1, 0, 1, 0, 0, 1]\n"
     ]
    }
   ],
   "source": [
    "list_df_test=[]\n",
    "for i in test_titanic.values:\n",
    "    list_df_test.append(i)\n",
    "print(list_df_test[0])\n",
    "print('============================')\n",
    "new_list_df_test=[]\n",
    "for i in list_df_test:\n",
    "    new_list_df_test.append(i[0:5])\n",
    "print(new_list_df_test[0])\n",
    "\n",
    "new_list_avg_test=[]\n",
    "for i in new_list_df_test:\n",
    "    new_list_avg_test.append(sum(i)/5)\n",
    "print(new_list_avg_test)\n",
    "res_test=[]\n",
    "for i in new_list_avg_test:\n",
    "    if i > 0.3:   # 0.42 = .98\n",
    "        res_test.append(1)\n",
    "    else:\n",
    "        res_test.append(0)\n",
    "print(res_test)"
   ]
  },
  {
   "cell_type": "code",
   "execution_count": 2147,
   "id": "be1ef729",
   "metadata": {},
   "outputs": [
    {
     "name": "stdout",
     "output_type": "stream",
     "text": [
      "   PassengerId  Survived\n",
      "0          892         0\n",
      "1          893         1\n",
      "2          894         1\n",
      "3          895         0\n",
      "4          896         1\n"
     ]
    }
   ],
   "source": [
    "id_list=test_titanic['PassengerId'].values.tolist()\n",
    "submit = pd.DataFrame()\n",
    "submit['PassengerId'] = id_list\n",
    "submit['Survived']=res_test\n",
    "print(submit.head())\n",
    "submit.to_csv(r'submit_titanic.csv', index=False)"
   ]
  },
  {
   "cell_type": "code",
   "execution_count": 2148,
   "id": "d5465799",
   "metadata": {},
   "outputs": [
    {
     "ename": "NameError",
     "evalue": "name 'tyjkl' is not defined",
     "output_type": "error",
     "traceback": [
      "\u001b[1;31m---------------------------------------------------------------------------\u001b[0m",
      "\u001b[1;31mNameError\u001b[0m                                 Traceback (most recent call last)",
      "\u001b[1;32m<ipython-input-2148-54c074974ec8>\u001b[0m in \u001b[0;36m<module>\u001b[1;34m\u001b[0m\n\u001b[1;32m----> 1\u001b[1;33m \u001b[0mtyjkl\u001b[0m\u001b[1;33m;\u001b[0m\u001b[1;33m\u001b[0m\u001b[1;33m\u001b[0m\u001b[0m\n\u001b[0m",
      "\u001b[1;31mNameError\u001b[0m: name 'tyjkl' is not defined"
     ]
    }
   ],
   "source": [
    "tyjkl;"
   ]
  },
  {
   "cell_type": "code",
   "execution_count": null,
   "id": "22262940",
   "metadata": {},
   "outputs": [],
   "source": [
    "print(test_titanic.columns)\n",
    "print(train_titanic.columns)\n",
    "\n",
    "print(train_titanic.values[2])\n",
    "print(test_titanic.values[2])\n",
    "\n",
    "print(test_titanic['PassengerId'][2])\n",
    "print(test_titanic.values[2][0])"
   ]
  },
  {
   "cell_type": "code",
   "execution_count": null,
   "id": "e44c314f",
   "metadata": {},
   "outputs": [],
   "source": [
    "\n",
    "\n",
    " \n",
    "cols=['sex_surv_prop','titles_surv_prop','class_surv_prop','age_surv_prop'] #sib_surv_prop''class_surv_prop',\n",
    "y = (train_titanic.Survived)\n",
    "X=train_titanic[cols] # LogisticRegression(max_iter=10000)\n",
    "#model =   #GradientBoostingClassifier(n_estimators=10000, learning_rate=0.1, min_samples_split=50,min_samples_leaf=50,max_depth=1000,subsample=0.8,random_state=10)\n",
    "#model.fit(X,y)\n",
    "#y_pred = model.predict(X)\n",
    "#print(\"The mean absolute error for the data we have is:\", round(mean_absolute_error(y,y_pred),3))"
   ]
  },
  {
   "cell_type": "code",
   "execution_count": null,
   "id": "f5d61cac",
   "metadata": {},
   "outputs": [],
   "source": [
    "train_X,val_X,train_y,val_y = train_test_split(X,y,random_state=30,test_size=0.3)\n",
    "\n",
    "\"\"\"train_tens_x = train_X.to_numpy()\n",
    "test_tens_x=val_X.to_numpy()\n",
    "\n",
    "train_tens_y = train_y.to_numpy()\n",
    "test_tens_y=val_y.to_numpy()\n",
    "\n",
    "print(train_tens_x.shape)\n",
    "print(test_tens_x.shape)\n",
    "print(train_tens_y.shape)\n",
    "print(test_tens_y.shape)\n",
    "\"\"\""
   ]
  },
  {
   "cell_type": "code",
   "execution_count": null,
   "id": "0c458f9d",
   "metadata": {},
   "outputs": [],
   "source": [
    "\"\"\"#Build the model object\n",
    "model = tf.keras.models.Sequential()\n",
    "# Add the Flatten Layer\n",
    "model.add(tf.keras.layers.Flatten())\n",
    "# Build the input and the hidden layers\n",
    "model.add(tf.keras.layers.Dense(128, activation=tf.nn.relu))\n",
    "model.add(tf.keras.layers.Dense(128, activation=tf.nn.relu))\n",
    "# Build the output layer\n",
    "model.add(tf.keras.layers.Dense(10, activation=tf.nn.softmax))\n",
    "model.compile(loss='sparse_categorical_crossentropy', optimizer=\"adam\", metrics=['accuracy'])\n",
    "# Compile the model\n",
    "#model.compile(optimizer=\"adam\", loss=\"sparse_categorical_crossentropy\", metrics=[\"accuracy\"])\n",
    "model.fit(x=train_tens_x, y=train_tens_y, epochs=15)\"\"\""
   ]
  },
  {
   "cell_type": "code",
   "execution_count": null,
   "id": "ef228bc9",
   "metadata": {},
   "outputs": [],
   "source": [
    "#thjk"
   ]
  },
  {
   "cell_type": "code",
   "execution_count": null,
   "id": "8417f655",
   "metadata": {},
   "outputs": [],
   "source": [
    "\n",
    "model.fit(train_X,train_y)\n",
    "y_pred = model.predict(val_X)\n",
    "print(\"The mean absolute error is:\", round(mean_absolute_error(val_y,y_pred),3))"
   ]
  },
  {
   "cell_type": "code",
   "execution_count": null,
   "id": "4edf33d0",
   "metadata": {},
   "outputs": [],
   "source": [
    "score = round(model.score(train_X, train_y) * 100, 2)\n",
    "print(\"The score of the train model is:\",score)\n",
    "\n",
    "score = round(model.score(val_X, val_y) * 100, 2)\n",
    "print(\"The score of the test model is:\",score)"
   ]
  },
  {
   "cell_type": "code",
   "execution_count": null,
   "id": "60d8070e",
   "metadata": {},
   "outputs": [],
   "source": [
    "rtyukl;\n"
   ]
  },
  {
   "cell_type": "code",
   "execution_count": null,
   "id": "d09ec51a",
   "metadata": {},
   "outputs": [],
   "source": [
    "X_test_titanic=test_titanic[cols]\n",
    "y_pred_titanic_test = model.predict(X_test_titanic)\n",
    "\n",
    "id_list=test_titanic['PassengerId'].values.tolist()\n",
    "submit = pd.DataFrame()\n",
    "submit['PassengerId'] = id_list\n",
    "submit['Survived']=y_pred_titanic_test\n",
    "print(submit.head())\n",
    "submit.to_csv(r'submit_titanic.csv', index=False)"
   ]
  },
  {
   "cell_type": "code",
   "execution_count": null,
   "id": "28805ba2",
   "metadata": {},
   "outputs": [],
   "source": [
    "d = {'a': [0.1, 0.2,0.3,0.4,0.5,0.6], 'b': [0.6, 0.8,0.3,0.4,0.1,0.1],\n",
    "     'c': [0.7, 0.3,0.9,0.4,1.0,0.2],'d': [1,0,0,1,0,1]}\n",
    "df = pd.DataFrame(data=d)\n",
    "\n",
    "print(df.values)\n",
    "\n",
    "for i in df.columns:\n",
    "    for j in range(len(df['a'])):\n",
    "        if df[i][j]>=0.5:\n",
    "            df[i][j]=1\n",
    "        else:\n",
    "            df[i][j] = 0\n",
    "print(df.values)\n",
    "\"\"\"def get_equation(x,y,z): # edited line\n",
    "    degree = 2\n",
    "    coefs, res,_ ,_ ,_ ,_ = np.polyfit(x,y,z,degree, full = True) #edited line\n",
    "    ffit = np.poly1d(coefs)\n",
    "    return ffit\n",
    "print(get_equation(df['a'],df['b'],df['d'])) # edited line\"\"\"\n",
    "\n",
    "df_vals=['a','b','c','d']\n",
    "\"\"\"\n",
    "list_df=[]\n",
    "for i in df.values:\n",
    "    list_df.append(i)\n",
    "print(list_df)\n",
    "print('============================')\n",
    "new_list_df=[]\n",
    "for i in list_df:\n",
    "    new_list_df.append(i[0:3])\n",
    "print(new_list_df)\n",
    "\n",
    "new_list_avg=[]\n",
    "for i in new_list_df:\n",
    "    new_list_avg.append(sum(i)/3)\n",
    "print(new_list_avg)\n",
    "res=[]\n",
    "for i in new_list_avg:\n",
    "    if i >= 0.5:\n",
    "        res.append(1)\n",
    "    else:\n",
    "        res.append(0)\n",
    "print(res)\"\"\""
   ]
  },
  {
   "cell_type": "code",
   "execution_count": null,
   "id": "510a942d",
   "metadata": {},
   "outputs": [],
   "source": []
  }
 ],
 "metadata": {
  "kernelspec": {
   "display_name": "Python 3",
   "language": "python",
   "name": "python3"
  },
  "language_info": {
   "codemirror_mode": {
    "name": "ipython",
    "version": 3
   },
   "file_extension": ".py",
   "mimetype": "text/x-python",
   "name": "python",
   "nbconvert_exporter": "python",
   "pygments_lexer": "ipython3",
   "version": "3.9.2"
  }
 },
 "nbformat": 4,
 "nbformat_minor": 5
}
